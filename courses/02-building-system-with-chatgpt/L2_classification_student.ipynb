{
 "cells": [
  {
   "cell_type": "markdown",
   "id": "f14c4442-3fc5-4070-9ef2-bb33d30e6b38",
   "metadata": {},
   "source": [
    "# L2: Evaluate Inputs: Classification"
   ]
  },
  {
   "cell_type": "markdown",
   "id": "26fd0696-18e6-4029-8738-fecba92851db",
   "metadata": {},
   "source": [
    "## Setup\n",
    "#### Load the API key and relevant Python libaries.\n",
    "In this course, we've provided some code that loads the OpenAI API key for you."
   ]
  },
  {
   "cell_type": "code",
   "execution_count": 2,
   "id": "87f647e2",
   "metadata": {
    "height": 130
   },
   "outputs": [],
   "source": [
    "import os\n",
    "import openai\n",
    "from dotenv import load_dotenv, find_dotenv\n",
    "_ = load_dotenv(find_dotenv()) # read local .env file\n",
    "\n",
    "openai.api_key  = os.environ['OPENAI_API_KEY']"
   ]
  },
  {
   "cell_type": "code",
   "execution_count": null,
   "id": "101624a2",
   "metadata": {
    "height": 215
   },
   "outputs": [],
   "source": [
    "def get_completion_from_messages(messages, \n",
    "                                 model=\"gpt-3.5-turbo\", \n",
    "                                 temperature=0, \n",
    "                                 max_tokens=500):\n",
    "    response = openai.ChatCompletion.create(\n",
    "        model=model,\n",
    "        messages=messages,\n",
    "        temperature=temperature, \n",
    "        max_tokens=max_tokens,\n",
    "    )\n",
    "    return response.choices[0].message[\"content\"]"
   ]
  },
  {
   "cell_type": "code",
   "execution_count": 6,
   "id": "e8188f88-1828-47d0-a520-df8df88b7561",
   "metadata": {},
   "outputs": [],
   "source": [
    "def get_completion_from_messages(messages, \n",
    "                                 model=\"gpt-3.5-turbo\",\n",
    "                                 temperature=0, \n",
    "                                 max_tokens=500) :\n",
    "                                \n",
    "    \n",
    "    client = openai.OpenAI()\n",
    "        \n",
    "    response = client.chat.completions.create(\n",
    "        model=model,\n",
    "        messages=messages,\n",
    "        temperature=temperature,\n",
    "        max_tokens=max_tokens,\n",
    "        \n",
    "    )\n",
    "    \n",
    "    return response.choices[0].message.content"
   ]
  },
  {
   "cell_type": "markdown",
   "id": "d3db09d1-6253-4c9e-9ad1-5a6134df3e6c",
   "metadata": {},
   "source": [
    "#### Classify customer queries to handle different cases"
   ]
  },
  {
   "cell_type": "code",
   "execution_count": 8,
   "id": "8db30f42",
   "metadata": {
    "height": 827
   },
   "outputs": [
    {
     "name": "stdout",
     "output_type": "stream",
     "text": [
      "{\n",
      "    \"primary\": \"Account Management\",\n",
      "    \"secondary\": \"Close account\"\n",
      "}\n"
     ]
    }
   ],
   "source": [
    "delimiter = \"####\"\n",
    "\n",
    "system_message = f\"\"\"\n",
    "You will be provided with customer service queries. \n",
    "\n",
    "The customer service query will be delimited with {delimiter} characters.\n",
    "Classify each query into a primary category and a secondary category. \n",
    "\n",
    "Provide your output in json format with the keys: primary and secondary.\n",
    "\n",
    "Primary categories: \n",
    "- Billing \n",
    "- Technical Support\n",
    "- Account Management\n",
    "- General Inquiry.\n",
    "\n",
    "Billing secondary categories:\n",
    "- Unsubscribe or upgrade\n",
    "_ Add a payment method\n",
    "- Explanation for charge\n",
    "- Dispute a charge\n",
    "\n",
    "Technical Support secondary categories:\n",
    "- General troubleshooting\n",
    "- Device compatibility\n",
    "- Software updates\n",
    "\n",
    "Account Management secondary categories:\n",
    "- Password reset\n",
    "- Update personal information\n",
    "- Close account\n",
    "- Account security\n",
    "\n",
    "General Inquiry secondary categories:\n",
    "- Product information\n",
    "- Pricing\n",
    "- Feedback\n",
    "- Speak to a human\n",
    "\"\"\"\n",
    "\n",
    "user_message = f\"\"\"I want you to delete my profile and all of my user data\"\"\"\n",
    "\n",
    "messages =  [  \n",
    "    {\n",
    "        'role':'system', \n",
    "        'content': system_message\n",
    "    },    \n",
    "    {\n",
    "        'role':'user', \n",
    "        'content': f\"{delimiter}{user_message}{delimiter}\"},  \n",
    "] \n",
    "response = get_completion_from_messages(messages)\n",
    "print(response)"
   ]
  },
  {
   "cell_type": "code",
   "execution_count": 10,
   "id": "f9a5a790",
   "metadata": {
    "height": 198
   },
   "outputs": [
    {
     "name": "stdout",
     "output_type": "stream",
     "text": [
      "{\n",
      "    \"primary\": \"General Inquiry\",\n",
      "    \"secondary\": \"Pricing\"\n",
      "}\n"
     ]
    }
   ],
   "source": [
    "# user_message = f\"\"\"Tell me more about your flat screen tvs\"\"\"\n",
    "user_message = f\"\"\"I would like know the prices of your laptops\"\"\"\n",
    "\n",
    "messages =  [  \n",
    "    {\n",
    "        'role':'system', \n",
    "        'content': system_message\n",
    "    },    \n",
    "    {\n",
    "        'role':'user', \n",
    "        'content': f\"{delimiter}{user_message}{delimiter}\"},  \n",
    "] \n",
    "response = get_completion_from_messages(messages)\n",
    "print(response)"
   ]
  },
  {
   "cell_type": "code",
   "execution_count": null,
   "id": "5cfd2fae",
   "metadata": {
    "height": 30
   },
   "outputs": [],
   "source": []
  }
 ],
 "metadata": {
  "kernelspec": {
   "display_name": "Python 3 (ipykernel)",
   "language": "python",
   "name": "python3"
  },
  "language_info": {
   "codemirror_mode": {
    "name": "ipython",
    "version": 3
   },
   "file_extension": ".py",
   "mimetype": "text/x-python",
   "name": "python",
   "nbconvert_exporter": "python",
   "pygments_lexer": "ipython3",
   "version": "3.12.1"
  }
 },
 "nbformat": 4,
 "nbformat_minor": 5
}
