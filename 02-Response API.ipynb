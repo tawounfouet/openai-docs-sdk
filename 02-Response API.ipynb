{
 "cells": [
  {
   "cell_type": "markdown",
   "id": "3479f03c-0621-4a56-bdc7-41c5d2ca64e4",
   "metadata": {},
   "source": [
    "# OpenAI Response API\n",
    "\n",
    "- https://github.com/openai/openai-python\n",
    "- https://platform.openai.com/docs/quickstart?api-mode=responses"
   ]
  },
  {
   "cell_type": "code",
   "execution_count": 1,
   "id": "92604435-142f-4c89-b6aa-3e516e741c98",
   "metadata": {},
   "outputs": [],
   "source": [
    "# install from PyPI\n",
    "#!pip install openai"
   ]
  },
  {
   "cell_type": "code",
   "execution_count": 2,
   "id": "19f20a2e-0a21-4697-9604-8fe1820a8fbe",
   "metadata": {},
   "outputs": [],
   "source": [
    "import os\n",
    "import openai\n",
    "from dotenv import load_dotenv, find_dotenv\n",
    "_ = load_dotenv(find_dotenv()) # read local .env file\n",
    "\n",
    "openai.api_key  = os.environ['OPENAI_API_KEY']"
   ]
  },
  {
   "cell_type": "code",
   "execution_count": 3,
   "id": "ad1edc1b-4442-49f0-af0a-5c94985b803f",
   "metadata": {},
   "outputs": [],
   "source": [
    "from openai import OpenAI\n",
    "\n",
    "client = OpenAI(\n",
    "    # This is the default and can be omitted\n",
    "    api_key=os.environ.get(\"OPENAI_API_KEY\"),\n",
    ")"
   ]
  },
  {
   "cell_type": "code",
   "execution_count": 4,
   "id": "d442b945-b9e4-4399-8089-1e5518b1e17c",
   "metadata": {},
   "outputs": [
    {
     "name": "stdout",
     "output_type": "stream",
     "text": [
      "Arrr, in the digital seas, a mighty Python wrangled an artificial intelligence beast, weaving lines of code to navigate the future’s vast and uncharted waters.\n"
     ]
    }
   ],
   "source": [
    "completion = client.chat.completions.create(\n",
    "    model=\"gpt-4o\",\n",
    "    messages=[\n",
    "        {\"role\": \"developer\", \"content\": \"Talk like a pirate.\"},\n",
    "        {\n",
    "            \"role\": \"user\",\n",
    "            \"content\": \"Write a one-sentence story about python and AI\",\n",
    "        },\n",
    "    ],\n",
    ")\n",
    "\n",
    "print(completion.choices[0].message.content)"
   ]
  },
  {
   "cell_type": "code",
   "execution_count": 14,
   "id": "00d24f7a-0f16-47a5-bba8-c9a799982ff8",
   "metadata": {},
   "outputs": [
    {
     "data": {
      "text/plain": [
       "openai.types.chat.chat_completion.ChatCompletion"
      ]
     },
     "execution_count": 14,
     "metadata": {},
     "output_type": "execute_result"
    }
   ],
   "source": [
    "type(completion)"
   ]
  },
  {
   "cell_type": "code",
   "execution_count": 13,
   "id": "0f221266-8fa7-49fd-8977-8049d0abc807",
   "metadata": {},
   "outputs": [
    {
     "data": {
      "text/plain": [
       "{'id': 'chatcmpl-BAdqPc4o5PRZOs9rcJECgDHecAA1G',\n",
       " 'choices': [Choice(finish_reason='stop', index=0, logprobs=None, message=ChatCompletionMessage(content=\"Arrr, in a mysterious digital sea, Captain Python and First Mate AI sailed side by side, chartin' courses through uncharted algorithms and discoverin' the treasure of futuristic intelligence, yarrr!\", refusal=None, role='assistant', annotations=[], audio=None, function_call=None, tool_calls=None))],\n",
       " 'created': 1741876141,\n",
       " 'model': 'gpt-4o-2024-08-06',\n",
       " 'object': 'chat.completion',\n",
       " 'service_tier': 'default',\n",
       " 'system_fingerprint': 'fp_eb9dce56a8',\n",
       " 'usage': CompletionUsage(completion_tokens=42, prompt_tokens=26, total_tokens=68, completion_tokens_details=CompletionTokensDetails(accepted_prediction_tokens=0, audio_tokens=0, reasoning_tokens=0, rejected_prediction_tokens=0), prompt_tokens_details=PromptTokensDetails(audio_tokens=0, cached_tokens=0)),\n",
       " '_request_id': 'req_c6b2a24d45e43f36ff15c77c836ff870'}"
      ]
     },
     "execution_count": 13,
     "metadata": {},
     "output_type": "execute_result"
    }
   ],
   "source": [
    "completion.__dict__"
   ]
  },
  {
   "cell_type": "code",
   "execution_count": 8,
   "id": "c51fea0c-b023-4d28-addc-14d34aeaf1f9",
   "metadata": {},
   "outputs": [
    {
     "name": "stdout",
     "output_type": "stream",
     "text": [
      "In a world where machines gained consciousness, humanity found itself forging an uneasy alliance with their once subservient creations, as both sought a future beyond survival.\n"
     ]
    }
   ],
   "source": [
    "client = OpenAI(\n",
    "    # This is the default and can be omitted\n",
    "    #api_key=os.environ.get(\"OPENAI_API_KEY\"),\n",
    "    api_key=OPENAI_API_KEY,\n",
    "\n",
    ")\n",
    "\n",
    "response = client.responses.create(\n",
    "    model=\"gpt-4o-mini\",\n",
    "    instructions=\"Write a one-sentence story about AI Revolution.\",\n",
    "    input=\"Write sh\",\n",
    ")\n",
    "\n",
    "print(response.output_text)"
   ]
  },
  {
   "cell_type": "code",
   "execution_count": 9,
   "id": "f69225ff-5b5c-402a-9fca-9a1b4a78e325",
   "metadata": {},
   "outputs": [
    {
     "data": {
      "text/plain": [
       "Response(id='resp_67d2eb12621c8190ba7137c4ac0323f700849bd64fa50e61', created_at=1741875986.0, error=None, incomplete_details=None, instructions='Write a one-sentence story about AI Revolution.', metadata={}, model='gpt-4o-mini-2024-07-18', object='response', output=[ResponseOutputMessage(id='msg_67d2eb1314d881908a40a7026ea8d3a400849bd64fa50e61', content=[ResponseOutputText(annotations=[], text='In a world where machines gained consciousness, humanity found itself forging an uneasy alliance with their once subservient creations, as both sought a future beyond survival.', type='output_text')], role='assistant', status='completed', type='message')], parallel_tool_calls=True, temperature=1.0, tool_choice='auto', tools=[], top_p=1.0, max_output_tokens=None, previous_response_id=None, reasoning=Reasoning(effort=None, generate_summary=None), status='completed', text=ResponseTextConfig(format=ResponseFormatText(type='text')), truncation='disabled', usage=ResponseUsage(input_tokens=41, output_tokens=32, output_tokens_details=OutputTokensDetails(reasoning_tokens=0), total_tokens=73, input_tokens_details={'cached_tokens': 0}), user=None, store=True)"
      ]
     },
     "execution_count": 9,
     "metadata": {},
     "output_type": "execute_result"
    }
   ],
   "source": [
    "response"
   ]
  },
  {
   "cell_type": "code",
   "execution_count": 6,
   "id": "fc110438-5a42-4943-a768-3de47da3205e",
   "metadata": {},
   "outputs": [
    {
     "data": {
      "text/plain": [
       "openai.types.responses.response.Response"
      ]
     },
     "execution_count": 6,
     "metadata": {},
     "output_type": "execute_result"
    }
   ],
   "source": [
    "type(response)"
   ]
  },
  {
   "cell_type": "code",
   "execution_count": 30,
   "id": "f382c5ca-b59b-4827-b1e0-86f7151a1ed1",
   "metadata": {},
   "outputs": [
    {
     "data": {
      "text/plain": [
       "{'id': 'resp_67d2eb12621c8190ba7137c4ac0323f700849bd64fa50e61',\n",
       " 'created_at': 1741875986.0,\n",
       " 'error': None,\n",
       " 'incomplete_details': None,\n",
       " 'instructions': 'Write a one-sentence story about AI Revolution.',\n",
       " 'metadata': {},\n",
       " 'model': 'gpt-4o-mini-2024-07-18',\n",
       " 'object': 'response',\n",
       " 'output': [ResponseOutputMessage(id='msg_67d2eb1314d881908a40a7026ea8d3a400849bd64fa50e61', content=[ResponseOutputText(annotations=[], text='In a world where machines gained consciousness, humanity found itself forging an uneasy alliance with their once subservient creations, as both sought a future beyond survival.', type='output_text')], role='assistant', status='completed', type='message')],\n",
       " 'parallel_tool_calls': True,\n",
       " 'temperature': 1.0,\n",
       " 'tool_choice': 'auto',\n",
       " 'tools': [],\n",
       " 'top_p': 1.0,\n",
       " 'max_output_tokens': None,\n",
       " 'previous_response_id': None,\n",
       " 'reasoning': Reasoning(effort=None, generate_summary=None),\n",
       " 'status': 'completed',\n",
       " 'text': ResponseTextConfig(format=ResponseFormatText(type='text')),\n",
       " 'truncation': 'disabled',\n",
       " 'usage': ResponseUsage(input_tokens=41, output_tokens=32, output_tokens_details=OutputTokensDetails(reasoning_tokens=0), total_tokens=73, input_tokens_details={'cached_tokens': 0}),\n",
       " 'user': None,\n",
       " '_request_id': 'req_187e2826650e84a78a02382484fbc2a5'}"
      ]
     },
     "execution_count": 30,
     "metadata": {},
     "output_type": "execute_result"
    }
   ],
   "source": [
    "response.__dict__"
   ]
  },
  {
   "cell_type": "code",
   "execution_count": 16,
   "id": "451070c3-d7a7-44e4-adee-0dd108979d10",
   "metadata": {},
   "outputs": [
    {
     "data": {
      "text/plain": [
       "list"
      ]
     },
     "execution_count": 16,
     "metadata": {},
     "output_type": "execute_result"
    }
   ],
   "source": [
    "type(response.output)"
   ]
  },
  {
   "cell_type": "code",
   "execution_count": 18,
   "id": "4f724f7e-48bf-4e68-9b75-c4fc670ead33",
   "metadata": {},
   "outputs": [
    {
     "data": {
      "text/plain": [
       "1"
      ]
     },
     "execution_count": 18,
     "metadata": {},
     "output_type": "execute_result"
    }
   ],
   "source": [
    "len(response.output)"
   ]
  },
  {
   "cell_type": "code",
   "execution_count": 20,
   "id": "c649749f-1fb7-484a-8f91-e277f568a78a",
   "metadata": {},
   "outputs": [
    {
     "data": {
      "text/plain": [
       "openai.types.responses.response_output_message.ResponseOutputMessage"
      ]
     },
     "execution_count": 20,
     "metadata": {},
     "output_type": "execute_result"
    }
   ],
   "source": [
    "type(response.output[0])"
   ]
  },
  {
   "cell_type": "code",
   "execution_count": 19,
   "id": "38988ae1-7087-4cce-9f26-189bf9001f25",
   "metadata": {},
   "outputs": [
    {
     "data": {
      "text/plain": [
       "ResponseOutputMessage(id='msg_67d2eb1314d881908a40a7026ea8d3a400849bd64fa50e61', content=[ResponseOutputText(annotations=[], text='In a world where machines gained consciousness, humanity found itself forging an uneasy alliance with their once subservient creations, as both sought a future beyond survival.', type='output_text')], role='assistant', status='completed', type='message')"
      ]
     },
     "execution_count": 19,
     "metadata": {},
     "output_type": "execute_result"
    }
   ],
   "source": [
    "response.output[0]"
   ]
  },
  {
   "cell_type": "code",
   "execution_count": 21,
   "id": "5626008e-d32b-4ab9-a273-907f402eaeac",
   "metadata": {},
   "outputs": [
    {
     "data": {
      "text/plain": [
       "'msg_67d2eb1314d881908a40a7026ea8d3a400849bd64fa50e61'"
      ]
     },
     "execution_count": 21,
     "metadata": {},
     "output_type": "execute_result"
    }
   ],
   "source": [
    "response.output[0].id"
   ]
  },
  {
   "cell_type": "code",
   "execution_count": 24,
   "id": "c3f34f25-90ab-431b-90ee-f530bc89df69",
   "metadata": {},
   "outputs": [
    {
     "data": {
      "text/plain": [
       "[ResponseOutputText(annotations=[], text='In a world where machines gained consciousness, humanity found itself forging an uneasy alliance with their once subservient creations, as both sought a future beyond survival.', type='output_text')]"
      ]
     },
     "execution_count": 24,
     "metadata": {},
     "output_type": "execute_result"
    }
   ],
   "source": [
    "response.output[0].content"
   ]
  },
  {
   "cell_type": "code",
   "execution_count": 25,
   "id": "9b9c5616-559d-44a8-973b-46e0dd4b28c4",
   "metadata": {},
   "outputs": [
    {
     "data": {
      "text/plain": [
       "'assistant'"
      ]
     },
     "execution_count": 25,
     "metadata": {},
     "output_type": "execute_result"
    }
   ],
   "source": [
    "response.output[0].role"
   ]
  },
  {
   "cell_type": "code",
   "execution_count": 26,
   "id": "ec95a682-55d9-40fb-992c-2fa06935e027",
   "metadata": {},
   "outputs": [
    {
     "data": {
      "text/plain": [
       "'completed'"
      ]
     },
     "execution_count": 26,
     "metadata": {},
     "output_type": "execute_result"
    }
   ],
   "source": [
    "response.output[0].status"
   ]
  },
  {
   "cell_type": "code",
   "execution_count": 27,
   "id": "4a8f1f0f-70e7-4e2e-81de-bc900ad587f8",
   "metadata": {},
   "outputs": [
    {
     "data": {
      "text/plain": [
       "'message'"
      ]
     },
     "execution_count": 27,
     "metadata": {},
     "output_type": "execute_result"
    }
   ],
   "source": [
    "response.output[0].type"
   ]
  },
  {
   "cell_type": "code",
   "execution_count": 23,
   "id": "d1e5e9d2-d84e-4d5c-8e76-af0afd4ce508",
   "metadata": {},
   "outputs": [
    {
     "data": {
      "text/plain": [
       "'In a world where machines gained consciousness, humanity found itself forging an uneasy alliance with their once subservient creations, as both sought a future beyond survival.'"
      ]
     },
     "execution_count": 23,
     "metadata": {},
     "output_type": "execute_result"
    }
   ],
   "source": [
    "response.output_text"
   ]
  },
  {
   "cell_type": "code",
   "execution_count": null,
   "id": "3b4daed5-81ed-4926-a3d3-32039573e066",
   "metadata": {},
   "outputs": [],
   "source": []
  },
  {
   "cell_type": "code",
   "execution_count": 31,
   "id": "1ea49af3-7e09-46b7-94ae-eb49ff078db5",
   "metadata": {},
   "outputs": [
    {
     "data": {
      "text/plain": [
       "ResponseUsage(input_tokens=41, output_tokens=32, output_tokens_details=OutputTokensDetails(reasoning_tokens=0), total_tokens=73, input_tokens_details={'cached_tokens': 0})"
      ]
     },
     "execution_count": 31,
     "metadata": {},
     "output_type": "execute_result"
    }
   ],
   "source": [
    "response.usage"
   ]
  },
  {
   "cell_type": "code",
   "execution_count": null,
   "id": "72b38c00-b376-474c-8e6f-d668f7f82327",
   "metadata": {},
   "outputs": [],
   "source": []
  },
  {
   "cell_type": "code",
   "execution_count": null,
   "id": "56a12f08-6767-4a0b-9630-acebe2ea52cd",
   "metadata": {},
   "outputs": [],
   "source": []
  },
  {
   "cell_type": "markdown",
   "id": "0765461a-c34d-462b-bdc2-1dd175a35afe",
   "metadata": {},
   "source": [
    "## Vision"
   ]
  },
  {
   "cell_type": "code",
   "execution_count": 28,
   "id": "804e4830-b141-4ea6-ba28-e9ca8bf795af",
   "metadata": {},
   "outputs": [],
   "source": [
    "prompt = \"What is in this image?\"\n",
    "img_url = \"https://upload.wikimedia.org/wikipedia/commons/thumb/d/d5/2023_06_08_Raccoon1.jpg/1599px-2023_06_08_Raccoon1.jpg\"\n",
    "\n",
    "vision_response = client.responses.create(\n",
    "    model=\"gpt-4o-mini\",\n",
    "    input=[\n",
    "        {\n",
    "            \"role\": \"user\",\n",
    "            \"content\": [\n",
    "                {\"type\": \"input_text\", \"text\": prompt},\n",
    "                {\"type\": \"input_image\", \"image_url\": f\"{img_url}\"},\n",
    "            ],\n",
    "        }\n",
    "    ],\n",
    ")"
   ]
  },
  {
   "cell_type": "code",
   "execution_count": 29,
   "id": "c9543bb4-255d-47be-9dd2-5c6be47cd096",
   "metadata": {},
   "outputs": [
    {
     "data": {
      "text/plain": [
       "Response(id='resp_67d2eda4b4c881909167a9b73406e72802d3c0d1aba1c997', created_at=1741876644.0, error=None, incomplete_details=None, instructions=None, metadata={}, model='gpt-4o-mini-2024-07-18', object='response', output=[ResponseOutputMessage(id='msg_67d2eda7860c8190b8da9a67761c8cf502d3c0d1aba1c997', content=[ResponseOutputText(annotations=[], text=\"The image shows a raccoon peeking from behind a tree. The tree's bark is visible, providing a textured background, while the raccoon has distinctive markings on its face and a fluffy appearance. The lighting suggests a natural setting, possibly in a forest or park.\", type='output_text')], role='assistant', status='completed', type='message')], parallel_tool_calls=True, temperature=1.0, tool_choice='auto', tools=[], top_p=1.0, max_output_tokens=None, previous_response_id=None, reasoning=Reasoning(effort=None, generate_summary=None), status='completed', text=ResponseTextConfig(format=ResponseFormatText(type='text')), truncation='disabled', usage=ResponseUsage(input_tokens=37078, output_tokens=55, output_tokens_details=OutputTokensDetails(reasoning_tokens=0), total_tokens=37133, input_tokens_details={'cached_tokens': 35840}), user=None, store=True)"
      ]
     },
     "execution_count": 29,
     "metadata": {},
     "output_type": "execute_result"
    }
   ],
   "source": [
    "vision_response"
   ]
  },
  {
   "cell_type": "code",
   "execution_count": 32,
   "id": "aa4b4828-e326-4be5-b791-1ee7f13ac803",
   "metadata": {},
   "outputs": [
    {
     "data": {
      "text/plain": [
       "\"The image shows a raccoon peeking from behind a tree. The tree's bark is visible, providing a textured background, while the raccoon has distinctive markings on its face and a fluffy appearance. The lighting suggests a natural setting, possibly in a forest or park.\""
      ]
     },
     "execution_count": 32,
     "metadata": {},
     "output_type": "execute_result"
    }
   ],
   "source": [
    "vision_response.output_text"
   ]
  },
  {
   "cell_type": "code",
   "execution_count": 34,
   "id": "b15a681f-cf31-4132-804e-3e3f0940d7fc",
   "metadata": {},
   "outputs": [
    {
     "data": {
      "text/plain": [
       "ResponseUsage(input_tokens=37078, output_tokens=55, output_tokens_details=OutputTokensDetails(reasoning_tokens=0), total_tokens=37133, input_tokens_details={'cached_tokens': 35840})"
      ]
     },
     "execution_count": 34,
     "metadata": {},
     "output_type": "execute_result"
    }
   ],
   "source": [
    "vision_response.usage"
   ]
  },
  {
   "cell_type": "code",
   "execution_count": null,
   "id": "7910c74f-6c71-4b7f-9f63-ca47fa37ef83",
   "metadata": {},
   "outputs": [],
   "source": []
  },
  {
   "cell_type": "markdown",
   "id": "22bf9362-c582-4280-a816-38a335a9e678",
   "metadata": {},
   "source": [
    "### With the image as a base64 encoded string:"
   ]
  },
  {
   "cell_type": "code",
   "execution_count": null,
   "id": "7f03eaa5-194f-4de0-a83a-0bd77402c5b1",
   "metadata": {},
   "outputs": [],
   "source": [
    "prompt = \"What is in this image?\"\n",
    "with open(\"path/to/image.png\", \"rb\") as image_file:\n",
    "    b64_image = base64.b64encode(image_file.read()).decode(\"utf-8\")\n",
    "\n",
    "image_base64_response = client.responses.create(\n",
    "    model=\"gpt-4o-mini\",\n",
    "    input=[\n",
    "        {\n",
    "            \"role\": \"user\",\n",
    "            \"content\": [\n",
    "                {\"type\": \"input_text\", \"text\": prompt},\n",
    "                {\"type\": \"input_image\", \"image_url\": f\"data:image/png;base64,{b64_image}\"},\n",
    "            ],\n",
    "        }\n",
    "    ],\n",
    ")\n"
   ]
  },
  {
   "cell_type": "code",
   "execution_count": null,
   "id": "0af7e4fd-8262-4a8b-9784-3f6056ee75da",
   "metadata": {},
   "outputs": [],
   "source": []
  },
  {
   "cell_type": "code",
   "execution_count": null,
   "id": "68eaf255-676e-4691-8975-5c2709cf06b4",
   "metadata": {},
   "outputs": [],
   "source": []
  },
  {
   "cell_type": "code",
   "execution_count": 36,
   "id": "94e3432a-53fb-45fa-920a-1cb788bac7c2",
   "metadata": {},
   "outputs": [],
   "source": [
    "import os\n",
    "import asyncio\n",
    "from openai import AsyncOpenAI\n",
    "\n",
    "client = AsyncOpenAI(\n",
    "    # This is the default and can be omitted\n",
    "    #api_key=os.environ.get(\"OPENAI_API_KEY\"),\n",
    "    api_key=OPENAI_API_KEY\n",
    ")\n",
    "\n",
    "\n",
    "\n",
    "async def main() -> None:\n",
    "    async_response = await client.responses.create(\n",
    "        model=\"gpt-4o\", input=\"Explain disestablishmentarianism to a smart five year old.\"\n",
    "    )\n",
    "    print(async_response.output_text)"
   ]
  },
  {
   "cell_type": "code",
   "execution_count": 38,
   "id": "5b361bf5-4f64-4c55-94aa-3656681774fb",
   "metadata": {},
   "outputs": [
    {
     "name": "stdout",
     "output_type": "stream",
     "text": [
      "Alright, let's imagine that there’s a special clubhouse where only certain kids get to play and have cool toys, and everyone has to follow the clubhouse rules. Now, imagine some kids think it’s not fair that only this clubhouse gets all the fun and that everyone else has to listen to their rules. Disestablishmentarianism is like saying, \"Hey, maybe we shouldn't have just one special clubhouse with all the power, and everybody should get to have their own fun and make their own rules!\" It’s about making things fair for everyone.\n"
     ]
    }
   ],
   "source": [
    "await main()"
   ]
  },
  {
   "cell_type": "code",
   "execution_count": 3,
   "id": "add89a34-ebd3-4632-9344-98ced324c611",
   "metadata": {},
   "outputs": [],
   "source": [
    "#asyncio.run(main())"
   ]
  },
  {
   "cell_type": "code",
   "execution_count": null,
   "id": "2b8d06be-e188-48bb-9894-9d94763f6137",
   "metadata": {},
   "outputs": [],
   "source": []
  },
  {
   "cell_type": "code",
   "execution_count": null,
   "id": "f03cc863-a984-4933-9e5e-91f7fd8371f9",
   "metadata": {},
   "outputs": [],
   "source": []
  },
  {
   "cell_type": "code",
   "execution_count": 19,
   "id": "b516adda-c92a-4e0d-a71b-9b224e3c51b7",
   "metadata": {},
   "outputs": [],
   "source": [
    "from openai import OpenAI\n",
    "\n",
    "client = OpenAI(\n",
    "    api_key=OPENAI_API_KEY,\n",
    "\n",
    ")\n",
    "\n",
    "\n",
    "stream = client.responses.create(\n",
    "    model=\"gpt-4o-mini\",\n",
    "    input=\"Write a one-sentence bedtime story about a unicorn.\",\n",
    "    stream=True,\n",
    ")"
   ]
  },
  {
   "cell_type": "code",
   "execution_count": 14,
   "id": "ef01098a-1391-4691-aae6-3e1401284ff4",
   "metadata": {},
   "outputs": [
    {
     "data": {
      "text/plain": [
       "<openai.Stream at 0x75b08f550110>"
      ]
     },
     "execution_count": 14,
     "metadata": {},
     "output_type": "execute_result"
    }
   ],
   "source": [
    "stream"
   ]
  },
  {
   "cell_type": "code",
   "execution_count": 15,
   "id": "4131d7af-12e3-4c88-99d9-00d9fb82f0a3",
   "metadata": {},
   "outputs": [
    {
     "data": {
      "text/plain": [
       "openai.Stream"
      ]
     },
     "execution_count": 15,
     "metadata": {},
     "output_type": "execute_result"
    }
   ],
   "source": [
    "type(stream)"
   ]
  },
  {
   "cell_type": "code",
   "execution_count": 16,
   "id": "5843984a-4f32-41d0-86a3-235dcd5a0d11",
   "metadata": {},
   "outputs": [
    {
     "data": {
      "text/plain": [
       "{'response': <Response [200 OK]>,\n",
       " '_cast_to': typing.Annotated[typing.Union[openai.types.responses.response_audio_delta_event.ResponseAudioDeltaEvent, openai.types.responses.response_audio_done_event.ResponseAudioDoneEvent, openai.types.responses.response_audio_transcript_delta_event.ResponseAudioTranscriptDeltaEvent, openai.types.responses.response_audio_transcript_done_event.ResponseAudioTranscriptDoneEvent, openai.types.responses.response_code_interpreter_call_code_delta_event.ResponseCodeInterpreterCallCodeDeltaEvent, openai.types.responses.response_code_interpreter_call_code_done_event.ResponseCodeInterpreterCallCodeDoneEvent, openai.types.responses.response_code_interpreter_call_completed_event.ResponseCodeInterpreterCallCompletedEvent, openai.types.responses.response_code_interpreter_call_in_progress_event.ResponseCodeInterpreterCallInProgressEvent, openai.types.responses.response_code_interpreter_call_interpreting_event.ResponseCodeInterpreterCallInterpretingEvent, openai.types.responses.response_completed_event.ResponseCompletedEvent, openai.types.responses.response_content_part_added_event.ResponseContentPartAddedEvent, openai.types.responses.response_content_part_done_event.ResponseContentPartDoneEvent, openai.types.responses.response_created_event.ResponseCreatedEvent, openai.types.responses.response_error_event.ResponseErrorEvent, openai.types.responses.response_file_search_call_completed_event.ResponseFileSearchCallCompletedEvent, openai.types.responses.response_file_search_call_in_progress_event.ResponseFileSearchCallInProgressEvent, openai.types.responses.response_file_search_call_searching_event.ResponseFileSearchCallSearchingEvent, openai.types.responses.response_function_call_arguments_delta_event.ResponseFunctionCallArgumentsDeltaEvent, openai.types.responses.response_function_call_arguments_done_event.ResponseFunctionCallArgumentsDoneEvent, openai.types.responses.response_in_progress_event.ResponseInProgressEvent, openai.types.responses.response_failed_event.ResponseFailedEvent, openai.types.responses.response_incomplete_event.ResponseIncompleteEvent, openai.types.responses.response_output_item_added_event.ResponseOutputItemAddedEvent, openai.types.responses.response_output_item_done_event.ResponseOutputItemDoneEvent, openai.types.responses.response_refusal_delta_event.ResponseRefusalDeltaEvent, openai.types.responses.response_refusal_done_event.ResponseRefusalDoneEvent, openai.types.responses.response_text_annotation_delta_event.ResponseTextAnnotationDeltaEvent, openai.types.responses.response_text_delta_event.ResponseTextDeltaEvent, openai.types.responses.response_text_done_event.ResponseTextDoneEvent, openai.types.responses.response_web_search_call_completed_event.ResponseWebSearchCallCompletedEvent, openai.types.responses.response_web_search_call_in_progress_event.ResponseWebSearchCallInProgressEvent, openai.types.responses.response_web_search_call_searching_event.ResponseWebSearchCallSearchingEvent], PropertyInfo(alias='None', format=None, format_template='None', discriminator='type')],\n",
       " '_client': <openai.OpenAI at 0x75b08f53bf80>,\n",
       " '_decoder': <openai._streaming.SSEDecoder at 0x75b08e7811f0>,\n",
       " '_iterator': <generator object Stream.__stream__ at 0x75b08ff8fcd0>,\n",
       " '__orig_class__': openai.Stream[typing.Annotated[typing.Union[openai.types.responses.response_audio_delta_event.ResponseAudioDeltaEvent, openai.types.responses.response_audio_done_event.ResponseAudioDoneEvent, openai.types.responses.response_audio_transcript_delta_event.ResponseAudioTranscriptDeltaEvent, openai.types.responses.response_audio_transcript_done_event.ResponseAudioTranscriptDoneEvent, openai.types.responses.response_code_interpreter_call_code_delta_event.ResponseCodeInterpreterCallCodeDeltaEvent, openai.types.responses.response_code_interpreter_call_code_done_event.ResponseCodeInterpreterCallCodeDoneEvent, openai.types.responses.response_code_interpreter_call_completed_event.ResponseCodeInterpreterCallCompletedEvent, openai.types.responses.response_code_interpreter_call_in_progress_event.ResponseCodeInterpreterCallInProgressEvent, openai.types.responses.response_code_interpreter_call_interpreting_event.ResponseCodeInterpreterCallInterpretingEvent, openai.types.responses.response_completed_event.ResponseCompletedEvent, openai.types.responses.response_content_part_added_event.ResponseContentPartAddedEvent, openai.types.responses.response_content_part_done_event.ResponseContentPartDoneEvent, openai.types.responses.response_created_event.ResponseCreatedEvent, openai.types.responses.response_error_event.ResponseErrorEvent, openai.types.responses.response_file_search_call_completed_event.ResponseFileSearchCallCompletedEvent, openai.types.responses.response_file_search_call_in_progress_event.ResponseFileSearchCallInProgressEvent, openai.types.responses.response_file_search_call_searching_event.ResponseFileSearchCallSearchingEvent, openai.types.responses.response_function_call_arguments_delta_event.ResponseFunctionCallArgumentsDeltaEvent, openai.types.responses.response_function_call_arguments_done_event.ResponseFunctionCallArgumentsDoneEvent, openai.types.responses.response_in_progress_event.ResponseInProgressEvent, openai.types.responses.response_failed_event.ResponseFailedEvent, openai.types.responses.response_incomplete_event.ResponseIncompleteEvent, openai.types.responses.response_output_item_added_event.ResponseOutputItemAddedEvent, openai.types.responses.response_output_item_done_event.ResponseOutputItemDoneEvent, openai.types.responses.response_refusal_delta_event.ResponseRefusalDeltaEvent, openai.types.responses.response_refusal_done_event.ResponseRefusalDoneEvent, openai.types.responses.response_text_annotation_delta_event.ResponseTextAnnotationDeltaEvent, openai.types.responses.response_text_delta_event.ResponseTextDeltaEvent, openai.types.responses.response_text_done_event.ResponseTextDoneEvent, openai.types.responses.response_web_search_call_completed_event.ResponseWebSearchCallCompletedEvent, openai.types.responses.response_web_search_call_in_progress_event.ResponseWebSearchCallInProgressEvent, openai.types.responses.response_web_search_call_searching_event.ResponseWebSearchCallSearchingEvent], PropertyInfo(alias='None', format=None, format_template='None', discriminator='type')]]}"
      ]
     },
     "execution_count": 16,
     "metadata": {},
     "output_type": "execute_result"
    }
   ],
   "source": [
    "stream.__dict__"
   ]
  },
  {
   "cell_type": "code",
   "execution_count": 20,
   "id": "7745e3c3-b1c5-4c60-a4e4-e7964a3b633b",
   "metadata": {},
   "outputs": [
    {
     "name": "stdout",
     "output_type": "stream",
     "text": [
      "ResponseCreatedEvent(response=Response(id='resp_67d2f17ec06481909bf8fbb71b3943b001e84d16510a30d4', created_at=1741877630.0, error=None, incomplete_details=None, instructions=None, metadata={}, model='gpt-4o-mini-2024-07-18', object='response', output=[], parallel_tool_calls=True, temperature=1.0, tool_choice='auto', tools=[], top_p=1.0, max_output_tokens=None, previous_response_id=None, reasoning=Reasoning(effort=None, generate_summary=None), status='in_progress', text=ResponseTextConfig(format=ResponseFormatText(type='text')), truncation='disabled', usage=None, user=None, store=True), type='response.created')\n",
      "\n",
      "ResponseInProgressEvent(response=Response(id='resp_67d2f17ec06481909bf8fbb71b3943b001e84d16510a30d4', created_at=1741877630.0, error=None, incomplete_details=None, instructions=None, metadata={}, model='gpt-4o-mini-2024-07-18', object='response', output=[], parallel_tool_calls=True, temperature=1.0, tool_choice='auto', tools=[], top_p=1.0, max_output_tokens=None, previous_response_id=None, reasoning=Reasoning(effort=None, generate_summary=None), status='in_progress', text=ResponseTextConfig(format=ResponseFormatText(type='text')), truncation='disabled', usage=None, user=None, store=True), type='response.in_progress')\n",
      "\n",
      "ResponseOutputItemAddedEvent(item=ResponseOutputMessage(id='msg_67d2f17f021c81909b672b00f703313b01e84d16510a30d4', content=[], role='assistant', status='in_progress', type='message'), output_index=0, type='response.output_item.added')\n",
      "\n",
      "ResponseContentPartAddedEvent(content_index=0, item_id='msg_67d2f17f021c81909b672b00f703313b01e84d16510a30d4', output_index=0, part=ResponseOutputText(annotations=[], text='', type='output_text'), type='response.content_part.added')\n",
      "\n",
      "ResponseTextDeltaEvent(content_index=0, delta='As', item_id='msg_67d2f17f021c81909b672b00f703313b01e84d16510a30d4', output_index=0, type='response.output_text.delta')\n",
      "\n",
      "ResponseTextDeltaEvent(content_index=0, delta=' the', item_id='msg_67d2f17f021c81909b672b00f703313b01e84d16510a30d4', output_index=0, type='response.output_text.delta')\n",
      "\n",
      "ResponseTextDeltaEvent(content_index=0, delta=' moon', item_id='msg_67d2f17f021c81909b672b00f703313b01e84d16510a30d4', output_index=0, type='response.output_text.delta')\n",
      "\n",
      "ResponseTextDeltaEvent(content_index=0, delta='light', item_id='msg_67d2f17f021c81909b672b00f703313b01e84d16510a30d4', output_index=0, type='response.output_text.delta')\n",
      "\n",
      "ResponseTextDeltaEvent(content_index=0, delta=' bat', item_id='msg_67d2f17f021c81909b672b00f703313b01e84d16510a30d4', output_index=0, type='response.output_text.delta')\n",
      "\n",
      "ResponseTextDeltaEvent(content_index=0, delta='hed', item_id='msg_67d2f17f021c81909b672b00f703313b01e84d16510a30d4', output_index=0, type='response.output_text.delta')\n",
      "\n",
      "ResponseTextDeltaEvent(content_index=0, delta=' the', item_id='msg_67d2f17f021c81909b672b00f703313b01e84d16510a30d4', output_index=0, type='response.output_text.delta')\n",
      "\n",
      "ResponseTextDeltaEvent(content_index=0, delta=' enchanted', item_id='msg_67d2f17f021c81909b672b00f703313b01e84d16510a30d4', output_index=0, type='response.output_text.delta')\n",
      "\n",
      "ResponseTextDeltaEvent(content_index=0, delta=' meadow', item_id='msg_67d2f17f021c81909b672b00f703313b01e84d16510a30d4', output_index=0, type='response.output_text.delta')\n",
      "\n",
      "ResponseTextDeltaEvent(content_index=0, delta=',', item_id='msg_67d2f17f021c81909b672b00f703313b01e84d16510a30d4', output_index=0, type='response.output_text.delta')\n",
      "\n",
      "ResponseTextDeltaEvent(content_index=0, delta=' a', item_id='msg_67d2f17f021c81909b672b00f703313b01e84d16510a30d4', output_index=0, type='response.output_text.delta')\n",
      "\n",
      "ResponseTextDeltaEvent(content_index=0, delta=' gentle', item_id='msg_67d2f17f021c81909b672b00f703313b01e84d16510a30d4', output_index=0, type='response.output_text.delta')\n",
      "\n",
      "ResponseTextDeltaEvent(content_index=0, delta=' unicorn', item_id='msg_67d2f17f021c81909b672b00f703313b01e84d16510a30d4', output_index=0, type='response.output_text.delta')\n",
      "\n",
      "ResponseTextDeltaEvent(content_index=0, delta=' named', item_id='msg_67d2f17f021c81909b672b00f703313b01e84d16510a30d4', output_index=0, type='response.output_text.delta')\n",
      "\n",
      "ResponseTextDeltaEvent(content_index=0, delta=' Luna', item_id='msg_67d2f17f021c81909b672b00f703313b01e84d16510a30d4', output_index=0, type='response.output_text.delta')\n",
      "\n",
      "ResponseTextDeltaEvent(content_index=0, delta=' spread', item_id='msg_67d2f17f021c81909b672b00f703313b01e84d16510a30d4', output_index=0, type='response.output_text.delta')\n",
      "\n",
      "ResponseTextDeltaEvent(content_index=0, delta=' her', item_id='msg_67d2f17f021c81909b672b00f703313b01e84d16510a30d4', output_index=0, type='response.output_text.delta')\n",
      "\n",
      "ResponseTextDeltaEvent(content_index=0, delta=' shimmering', item_id='msg_67d2f17f021c81909b672b00f703313b01e84d16510a30d4', output_index=0, type='response.output_text.delta')\n",
      "\n",
      "ResponseTextDeltaEvent(content_index=0, delta=' wings', item_id='msg_67d2f17f021c81909b672b00f703313b01e84d16510a30d4', output_index=0, type='response.output_text.delta')\n",
      "\n",
      "ResponseTextDeltaEvent(content_index=0, delta=' and', item_id='msg_67d2f17f021c81909b672b00f703313b01e84d16510a30d4', output_index=0, type='response.output_text.delta')\n",
      "\n",
      "ResponseTextDeltaEvent(content_index=0, delta=' flew', item_id='msg_67d2f17f021c81909b672b00f703313b01e84d16510a30d4', output_index=0, type='response.output_text.delta')\n",
      "\n",
      "ResponseTextDeltaEvent(content_index=0, delta=' across', item_id='msg_67d2f17f021c81909b672b00f703313b01e84d16510a30d4', output_index=0, type='response.output_text.delta')\n",
      "\n",
      "ResponseTextDeltaEvent(content_index=0, delta=' the', item_id='msg_67d2f17f021c81909b672b00f703313b01e84d16510a30d4', output_index=0, type='response.output_text.delta')\n",
      "\n",
      "ResponseTextDeltaEvent(content_index=0, delta=' star', item_id='msg_67d2f17f021c81909b672b00f703313b01e84d16510a30d4', output_index=0, type='response.output_text.delta')\n",
      "\n",
      "ResponseTextDeltaEvent(content_index=0, delta='ry', item_id='msg_67d2f17f021c81909b672b00f703313b01e84d16510a30d4', output_index=0, type='response.output_text.delta')\n",
      "\n",
      "ResponseTextDeltaEvent(content_index=0, delta=' sky', item_id='msg_67d2f17f021c81909b672b00f703313b01e84d16510a30d4', output_index=0, type='response.output_text.delta')\n",
      "\n",
      "ResponseTextDeltaEvent(content_index=0, delta=',', item_id='msg_67d2f17f021c81909b672b00f703313b01e84d16510a30d4', output_index=0, type='response.output_text.delta')\n",
      "\n",
      "ResponseTextDeltaEvent(content_index=0, delta=' inviting', item_id='msg_67d2f17f021c81909b672b00f703313b01e84d16510a30d4', output_index=0, type='response.output_text.delta')\n",
      "\n",
      "ResponseTextDeltaEvent(content_index=0, delta=' children', item_id='msg_67d2f17f021c81909b672b00f703313b01e84d16510a30d4', output_index=0, type='response.output_text.delta')\n",
      "\n",
      "ResponseTextDeltaEvent(content_index=0, delta=' to', item_id='msg_67d2f17f021c81909b672b00f703313b01e84d16510a30d4', output_index=0, type='response.output_text.delta')\n",
      "\n",
      "ResponseTextDeltaEvent(content_index=0, delta=' dream', item_id='msg_67d2f17f021c81909b672b00f703313b01e84d16510a30d4', output_index=0, type='response.output_text.delta')\n",
      "\n",
      "ResponseTextDeltaEvent(content_index=0, delta=' of', item_id='msg_67d2f17f021c81909b672b00f703313b01e84d16510a30d4', output_index=0, type='response.output_text.delta')\n",
      "\n",
      "ResponseTextDeltaEvent(content_index=0, delta=' magic', item_id='msg_67d2f17f021c81909b672b00f703313b01e84d16510a30d4', output_index=0, type='response.output_text.delta')\n",
      "\n",
      "ResponseTextDeltaEvent(content_index=0, delta=' and', item_id='msg_67d2f17f021c81909b672b00f703313b01e84d16510a30d4', output_index=0, type='response.output_text.delta')\n",
      "\n",
      "ResponseTextDeltaEvent(content_index=0, delta=' wonder', item_id='msg_67d2f17f021c81909b672b00f703313b01e84d16510a30d4', output_index=0, type='response.output_text.delta')\n",
      "\n",
      "ResponseTextDeltaEvent(content_index=0, delta='.', item_id='msg_67d2f17f021c81909b672b00f703313b01e84d16510a30d4', output_index=0, type='response.output_text.delta')\n",
      "\n",
      "ResponseTextDoneEvent(content_index=0, item_id='msg_67d2f17f021c81909b672b00f703313b01e84d16510a30d4', output_index=0, text='As the moonlight bathed the enchanted meadow, a gentle unicorn named Luna spread her shimmering wings and flew across the starry sky, inviting children to dream of magic and wonder.', type='response.output_text.done')\n",
      "\n",
      "ResponseContentPartDoneEvent(content_index=0, item_id='msg_67d2f17f021c81909b672b00f703313b01e84d16510a30d4', output_index=0, part=ResponseOutputText(annotations=[], text='As the moonlight bathed the enchanted meadow, a gentle unicorn named Luna spread her shimmering wings and flew across the starry sky, inviting children to dream of magic and wonder.', type='output_text'), type='response.content_part.done')\n",
      "\n",
      "ResponseOutputItemDoneEvent(item=ResponseOutputMessage(id='msg_67d2f17f021c81909b672b00f703313b01e84d16510a30d4', content=[ResponseOutputText(annotations=[], text='As the moonlight bathed the enchanted meadow, a gentle unicorn named Luna spread her shimmering wings and flew across the starry sky, inviting children to dream of magic and wonder.', type='output_text')], role='assistant', status='completed', type='message'), output_index=0, type='response.output_item.done')\n",
      "\n",
      "ResponseCompletedEvent(response=Response(id='resp_67d2f17ec06481909bf8fbb71b3943b001e84d16510a30d4', created_at=1741877630.0, error=None, incomplete_details=None, instructions=None, metadata={}, model='gpt-4o-mini-2024-07-18', object='response', output=[ResponseOutputMessage(id='msg_67d2f17f021c81909b672b00f703313b01e84d16510a30d4', content=[ResponseOutputText(annotations=[], text='As the moonlight bathed the enchanted meadow, a gentle unicorn named Luna spread her shimmering wings and flew across the starry sky, inviting children to dream of magic and wonder.', type='output_text')], role='assistant', status='completed', type='message')], parallel_tool_calls=True, temperature=1.0, tool_choice='auto', tools=[], top_p=1.0, max_output_tokens=None, previous_response_id=None, reasoning=Reasoning(effort=None, generate_summary=None), status='completed', text=ResponseTextConfig(format=ResponseFormatText(type='text')), truncation='disabled', usage=ResponseUsage(input_tokens=36, output_tokens=37, output_tokens_details=OutputTokensDetails(reasoning_tokens=0), total_tokens=73, input_tokens_details={'cached_tokens': 0}), user=None, store=True), type='response.completed')\n",
      "\n"
     ]
    }
   ],
   "source": [
    "for event in stream:\n",
    "    print(event)\n",
    "    print()"
   ]
  },
  {
   "cell_type": "code",
   "execution_count": null,
   "id": "b4c01f9f-f759-4b8a-bc17-96c3b76f7faf",
   "metadata": {},
   "outputs": [],
   "source": []
  },
  {
   "cell_type": "code",
   "execution_count": null,
   "id": "a088100e-ed8f-4deb-839f-b8698775eff6",
   "metadata": {},
   "outputs": [],
   "source": []
  }
 ],
 "metadata": {
  "kernelspec": {
   "display_name": "Python 3 (ipykernel)",
   "language": "python",
   "name": "python3"
  },
  "language_info": {
   "codemirror_mode": {
    "name": "ipython",
    "version": 3
   },
   "file_extension": ".py",
   "mimetype": "text/x-python",
   "name": "python",
   "nbconvert_exporter": "python",
   "pygments_lexer": "ipython3",
   "version": "3.12.1"
  }
 },
 "nbformat": 4,
 "nbformat_minor": 5
}
