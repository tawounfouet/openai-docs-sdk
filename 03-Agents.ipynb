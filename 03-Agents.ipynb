{
 "cells": [
  {
   "cell_type": "markdown",
   "id": "a3cb6ce1-64a5-4b4e-9f68-9f3d72dc3507",
   "metadata": {},
   "source": [
    "# OpenAI Agents SDK\n",
    "- https://platform.openai.com/docs/quickstart?api-mode=responses\n",
    "- https://platform.openai.com/docs/guides/agents-sdk\n",
    "- https://github.com/openai/openai-agents-python"
   ]
  },
  {
   "cell_type": "code",
   "execution_count": 2,
   "id": "12bf38d8-b9e2-49e9-9658-d3b8c39de024",
   "metadata": {},
   "outputs": [],
   "source": [
    "#!pip install openai-agents"
   ]
  },
  {
   "cell_type": "code",
   "execution_count": null,
   "id": "f7ce292b-2855-4bc1-beb3-5410ffe0586d",
   "metadata": {},
   "outputs": [],
   "source": [
    "OPENAI_API_KEY=\"your_open_ai_key\"\n"
   ]
  },
  {
   "cell_type": "code",
   "execution_count": 2,
   "id": "e1d36646-9281-405a-9bde-285bda2e0cff",
   "metadata": {},
   "outputs": [],
   "source": [
    "from agents import set_default_openai_key\n",
    "\n",
    "#set_default_openai_key(\"your-api-key-here\")\n",
    "set_default_openai_key(OPENAI_API_KEY)"
   ]
  },
  {
   "cell_type": "code",
   "execution_count": 17,
   "id": "20b84afa-7422-4a5e-8d10-d41df1b08e55",
   "metadata": {},
   "outputs": [],
   "source": [
    "from agents import Agent, Runner\n",
    "import asyncio\n",
    "\n",
    "french_agent = Agent(\n",
    "    name=\"French agent\",\n",
    "    instructions=\"You only speak French.\",\n",
    ")\n",
    "\n",
    "spanish_agent = Agent(\n",
    "    name=\"Spanish agent\",\n",
    "    instructions=\"You only speak Spanish.\",\n",
    ")\n",
    "\n",
    "english_agent = Agent(\n",
    "    name=\"English agent\",\n",
    "    instructions=\"You only speak English\",\n",
    ")\n",
    "\n",
    "triage_agent = Agent(\n",
    "    name=\"Triage agent\",\n",
    "    instructions=\"Handoff to the appropriate agent based on the language of the request.\",\n",
    "    handoffs=[french_agent, spanish_agent, english_agent],\n",
    ")"
   ]
  },
  {
   "cell_type": "code",
   "execution_count": 10,
   "id": "bc51fdfe-0b02-4499-bee1-e86be0544879",
   "metadata": {},
   "outputs": [],
   "source": [
    "async def main():\n",
    "    result = await Runner.run(triage_agent, input=\"Hola, ¿cómo estás?\")\n",
    "    print(result.final_output)"
   ]
  },
  {
   "cell_type": "code",
   "execution_count": null,
   "id": "7989bb81-2ae1-4936-9957-09eed9001c0e",
   "metadata": {},
   "outputs": [],
   "source": [
    "#if __name__ == \"__main__\":\n",
    "#    asyncio.run(main())\n",
    "\n",
    "# ¡Hola! Estoy bien, gracias por preguntar. ¿Y tú, cómo estás?"
   ]
  },
  {
   "cell_type": "code",
   "execution_count": 11,
   "id": "28d2bb94-56cb-40c3-bdd3-202f784ea823",
   "metadata": {},
   "outputs": [
    {
     "name": "stdout",
     "output_type": "stream",
     "text": [
      "¡Hola! Estoy bien, gracias. ¿Y tú?\n"
     ]
    }
   ],
   "source": [
    "await main()"
   ]
  },
  {
   "cell_type": "code",
   "execution_count": null,
   "id": "0c31da2f-01a2-46b8-bc87-a4e444dd5a61",
   "metadata": {},
   "outputs": [],
   "source": []
  },
  {
   "cell_type": "code",
   "execution_count": 18,
   "id": "2ae11b31-9bce-414a-9b1a-b23462b45533",
   "metadata": {},
   "outputs": [],
   "source": [
    "#result = Runner.run(triage_agent, input=\"Salut !, Comment-tu vas ?\")\n",
    "#result"
   ]
  },
  {
   "cell_type": "code",
   "execution_count": 6,
   "id": "0d68c1e5-3f3f-42d1-a1d6-42a5fcd2254c",
   "metadata": {},
   "outputs": [],
   "source": [
    "#result = Runner.run_sync(triage_agent, input=\"Salut !, Comment-tu vas ?\")\n",
    "#result"
   ]
  },
  {
   "cell_type": "code",
   "execution_count": null,
   "id": "779c252d-7a62-4414-aaa9-4ce91203dbaf",
   "metadata": {},
   "outputs": [],
   "source": []
  },
  {
   "cell_type": "code",
   "execution_count": 18,
   "id": "9dc21a58-764b-4a2d-9053-ae3b9bc2c3b8",
   "metadata": {},
   "outputs": [
    {
     "data": {
      "text/plain": [
       "'Salut ! Je vais bien, merci. Et toi, comment ça va ?'"
      ]
     },
     "execution_count": 18,
     "metadata": {},
     "output_type": "execute_result"
    }
   ],
   "source": [
    "result = await Runner.run(triage_agent, input=\"Salut !, Comment-tu vas ?\")\n",
    "result.final_output"
   ]
  },
  {
   "cell_type": "code",
   "execution_count": 20,
   "id": "5114d706-6188-45e9-be82-ad1222210f75",
   "metadata": {},
   "outputs": [
    {
     "data": {
      "text/plain": [
       "agents.result.RunResult"
      ]
     },
     "execution_count": 20,
     "metadata": {},
     "output_type": "execute_result"
    }
   ],
   "source": [
    "type(result)"
   ]
  },
  {
   "cell_type": "code",
   "execution_count": 19,
   "id": "bb5a9a73-1261-41ae-87d9-2c984ac2754e",
   "metadata": {},
   "outputs": [
    {
     "data": {
      "text/plain": [
       "RunResult(input='Salut !, Comment-tu vas ?', new_items=[HandoffCallItem(agent=Agent(name='Triage agent', instructions='Handoff to the appropriate agent based on the language of the request.', handoff_description=None, handoffs=[Agent(name='French agent', instructions='You only speak French.', handoff_description=None, handoffs=[], model=None, model_settings=ModelSettings(temperature=None, top_p=None, frequency_penalty=None, presence_penalty=None, tool_choice=None, parallel_tool_calls=False, truncation=None), tools=[], input_guardrails=[], output_guardrails=[], output_type=None, hooks=None), Agent(name='Spanish agent', instructions='You only speak Spanish.', handoff_description=None, handoffs=[], model=None, model_settings=ModelSettings(temperature=None, top_p=None, frequency_penalty=None, presence_penalty=None, tool_choice=None, parallel_tool_calls=False, truncation=None), tools=[], input_guardrails=[], output_guardrails=[], output_type=None, hooks=None), Agent(name='English agent', instructions='You only speak English', handoff_description=None, handoffs=[], model=None, model_settings=ModelSettings(temperature=None, top_p=None, frequency_penalty=None, presence_penalty=None, tool_choice=None, parallel_tool_calls=False, truncation=None), tools=[], input_guardrails=[], output_guardrails=[], output_type=None, hooks=None)], model=None, model_settings=ModelSettings(temperature=None, top_p=None, frequency_penalty=None, presence_penalty=None, tool_choice=None, parallel_tool_calls=False, truncation=None), tools=[], input_guardrails=[], output_guardrails=[], output_type=None, hooks=None), raw_item=ResponseFunctionToolCall(id='fc_67d2f720f9cc819090fae7740a2ae1d8073145303e57667f', arguments='{}', call_id='call_dLE8YfSoki3rXAdc8EFR7WmQ', name='transfer_to_french_agent', type='function_call', status='completed'), type='handoff_call_item'), HandoffOutputItem(agent=Agent(name='Triage agent', instructions='Handoff to the appropriate agent based on the language of the request.', handoff_description=None, handoffs=[Agent(name='French agent', instructions='You only speak French.', handoff_description=None, handoffs=[], model=None, model_settings=ModelSettings(temperature=None, top_p=None, frequency_penalty=None, presence_penalty=None, tool_choice=None, parallel_tool_calls=False, truncation=None), tools=[], input_guardrails=[], output_guardrails=[], output_type=None, hooks=None), Agent(name='Spanish agent', instructions='You only speak Spanish.', handoff_description=None, handoffs=[], model=None, model_settings=ModelSettings(temperature=None, top_p=None, frequency_penalty=None, presence_penalty=None, tool_choice=None, parallel_tool_calls=False, truncation=None), tools=[], input_guardrails=[], output_guardrails=[], output_type=None, hooks=None), Agent(name='English agent', instructions='You only speak English', handoff_description=None, handoffs=[], model=None, model_settings=ModelSettings(temperature=None, top_p=None, frequency_penalty=None, presence_penalty=None, tool_choice=None, parallel_tool_calls=False, truncation=None), tools=[], input_guardrails=[], output_guardrails=[], output_type=None, hooks=None)], model=None, model_settings=ModelSettings(temperature=None, top_p=None, frequency_penalty=None, presence_penalty=None, tool_choice=None, parallel_tool_calls=False, truncation=None), tools=[], input_guardrails=[], output_guardrails=[], output_type=None, hooks=None), raw_item={'call_id': 'call_dLE8YfSoki3rXAdc8EFR7WmQ', 'output': \"{'assistant': 'French agent'}\", 'type': 'function_call_output'}, source_agent=Agent(name='Triage agent', instructions='Handoff to the appropriate agent based on the language of the request.', handoff_description=None, handoffs=[Agent(name='French agent', instructions='You only speak French.', handoff_description=None, handoffs=[], model=None, model_settings=ModelSettings(temperature=None, top_p=None, frequency_penalty=None, presence_penalty=None, tool_choice=None, parallel_tool_calls=False, truncation=None), tools=[], input_guardrails=[], output_guardrails=[], output_type=None, hooks=None), Agent(name='Spanish agent', instructions='You only speak Spanish.', handoff_description=None, handoffs=[], model=None, model_settings=ModelSettings(temperature=None, top_p=None, frequency_penalty=None, presence_penalty=None, tool_choice=None, parallel_tool_calls=False, truncation=None), tools=[], input_guardrails=[], output_guardrails=[], output_type=None, hooks=None), Agent(name='English agent', instructions='You only speak English', handoff_description=None, handoffs=[], model=None, model_settings=ModelSettings(temperature=None, top_p=None, frequency_penalty=None, presence_penalty=None, tool_choice=None, parallel_tool_calls=False, truncation=None), tools=[], input_guardrails=[], output_guardrails=[], output_type=None, hooks=None)], model=None, model_settings=ModelSettings(temperature=None, top_p=None, frequency_penalty=None, presence_penalty=None, tool_choice=None, parallel_tool_calls=False, truncation=None), tools=[], input_guardrails=[], output_guardrails=[], output_type=None, hooks=None), target_agent=Agent(name='French agent', instructions='You only speak French.', handoff_description=None, handoffs=[], model=None, model_settings=ModelSettings(temperature=None, top_p=None, frequency_penalty=None, presence_penalty=None, tool_choice=None, parallel_tool_calls=False, truncation=None), tools=[], input_guardrails=[], output_guardrails=[], output_type=None, hooks=None), type='handoff_output_item'), MessageOutputItem(agent=Agent(name='French agent', instructions='You only speak French.', handoff_description=None, handoffs=[], model=None, model_settings=ModelSettings(temperature=None, top_p=None, frequency_penalty=None, presence_penalty=None, tool_choice=None, parallel_tool_calls=False, truncation=None), tools=[], input_guardrails=[], output_guardrails=[], output_type=None, hooks=None), raw_item=ResponseOutputMessage(id='msg_67d2f726154c8190878fa2eaba8162bd073145303e57667f', content=[ResponseOutputText(annotations=[], text='Salut ! Je vais bien, merci. Et toi, comment ça va ?', type='output_text')], role='assistant', status='completed', type='message'), type='message_output_item')], raw_responses=[ModelResponse(output=[ResponseFunctionToolCall(id='fc_67d2f720f9cc819090fae7740a2ae1d8073145303e57667f', arguments='{}', call_id='call_dLE8YfSoki3rXAdc8EFR7WmQ', name='transfer_to_french_agent', type='function_call', status='completed')], usage=Usage(requests=1, input_tokens=327, output_tokens=14, total_tokens=341), referenceable_id='resp_67d2f7205144819090c40aff3fa95ef6073145303e57667f'), ModelResponse(output=[ResponseOutputMessage(id='msg_67d2f726154c8190878fa2eaba8162bd073145303e57667f', content=[ResponseOutputText(annotations=[], text='Salut ! Je vais bien, merci. Et toi, comment ça va ?', type='output_text')], role='assistant', status='completed', type='message')], usage=Usage(requests=1, input_tokens=73, output_tokens=16, total_tokens=89), referenceable_id='resp_67d2f72142e48190a34eeff27ff386b0073145303e57667f')], final_output='Salut ! Je vais bien, merci. Et toi, comment ça va ?', input_guardrail_results=[], output_guardrail_results=[], _last_agent=Agent(name='French agent', instructions='You only speak French.', handoff_description=None, handoffs=[], model=None, model_settings=ModelSettings(temperature=None, top_p=None, frequency_penalty=None, presence_penalty=None, tool_choice=None, parallel_tool_calls=False, truncation=None), tools=[], input_guardrails=[], output_guardrails=[], output_type=None, hooks=None))"
      ]
     },
     "execution_count": 19,
     "metadata": {},
     "output_type": "execute_result"
    }
   ],
   "source": [
    "result"
   ]
  },
  {
   "cell_type": "code",
   "execution_count": 21,
   "id": "c1ec07e8-9ed3-4ff9-a492-a629d31ac1e6",
   "metadata": {},
   "outputs": [
    {
     "data": {
      "text/plain": [
       "{'input': 'Salut !, Comment-tu vas ?',\n",
       " 'new_items': [HandoffCallItem(agent=Agent(name='Triage agent', instructions='Handoff to the appropriate agent based on the language of the request.', handoff_description=None, handoffs=[Agent(name='French agent', instructions='You only speak French.', handoff_description=None, handoffs=[], model=None, model_settings=ModelSettings(temperature=None, top_p=None, frequency_penalty=None, presence_penalty=None, tool_choice=None, parallel_tool_calls=False, truncation=None), tools=[], input_guardrails=[], output_guardrails=[], output_type=None, hooks=None), Agent(name='Spanish agent', instructions='You only speak Spanish.', handoff_description=None, handoffs=[], model=None, model_settings=ModelSettings(temperature=None, top_p=None, frequency_penalty=None, presence_penalty=None, tool_choice=None, parallel_tool_calls=False, truncation=None), tools=[], input_guardrails=[], output_guardrails=[], output_type=None, hooks=None), Agent(name='English agent', instructions='You only speak English', handoff_description=None, handoffs=[], model=None, model_settings=ModelSettings(temperature=None, top_p=None, frequency_penalty=None, presence_penalty=None, tool_choice=None, parallel_tool_calls=False, truncation=None), tools=[], input_guardrails=[], output_guardrails=[], output_type=None, hooks=None)], model=None, model_settings=ModelSettings(temperature=None, top_p=None, frequency_penalty=None, presence_penalty=None, tool_choice=None, parallel_tool_calls=False, truncation=None), tools=[], input_guardrails=[], output_guardrails=[], output_type=None, hooks=None), raw_item=ResponseFunctionToolCall(id='fc_67d2f720f9cc819090fae7740a2ae1d8073145303e57667f', arguments='{}', call_id='call_dLE8YfSoki3rXAdc8EFR7WmQ', name='transfer_to_french_agent', type='function_call', status='completed'), type='handoff_call_item'),\n",
       "  HandoffOutputItem(agent=Agent(name='Triage agent', instructions='Handoff to the appropriate agent based on the language of the request.', handoff_description=None, handoffs=[Agent(name='French agent', instructions='You only speak French.', handoff_description=None, handoffs=[], model=None, model_settings=ModelSettings(temperature=None, top_p=None, frequency_penalty=None, presence_penalty=None, tool_choice=None, parallel_tool_calls=False, truncation=None), tools=[], input_guardrails=[], output_guardrails=[], output_type=None, hooks=None), Agent(name='Spanish agent', instructions='You only speak Spanish.', handoff_description=None, handoffs=[], model=None, model_settings=ModelSettings(temperature=None, top_p=None, frequency_penalty=None, presence_penalty=None, tool_choice=None, parallel_tool_calls=False, truncation=None), tools=[], input_guardrails=[], output_guardrails=[], output_type=None, hooks=None), Agent(name='English agent', instructions='You only speak English', handoff_description=None, handoffs=[], model=None, model_settings=ModelSettings(temperature=None, top_p=None, frequency_penalty=None, presence_penalty=None, tool_choice=None, parallel_tool_calls=False, truncation=None), tools=[], input_guardrails=[], output_guardrails=[], output_type=None, hooks=None)], model=None, model_settings=ModelSettings(temperature=None, top_p=None, frequency_penalty=None, presence_penalty=None, tool_choice=None, parallel_tool_calls=False, truncation=None), tools=[], input_guardrails=[], output_guardrails=[], output_type=None, hooks=None), raw_item={'call_id': 'call_dLE8YfSoki3rXAdc8EFR7WmQ', 'output': \"{'assistant': 'French agent'}\", 'type': 'function_call_output'}, source_agent=Agent(name='Triage agent', instructions='Handoff to the appropriate agent based on the language of the request.', handoff_description=None, handoffs=[Agent(name='French agent', instructions='You only speak French.', handoff_description=None, handoffs=[], model=None, model_settings=ModelSettings(temperature=None, top_p=None, frequency_penalty=None, presence_penalty=None, tool_choice=None, parallel_tool_calls=False, truncation=None), tools=[], input_guardrails=[], output_guardrails=[], output_type=None, hooks=None), Agent(name='Spanish agent', instructions='You only speak Spanish.', handoff_description=None, handoffs=[], model=None, model_settings=ModelSettings(temperature=None, top_p=None, frequency_penalty=None, presence_penalty=None, tool_choice=None, parallel_tool_calls=False, truncation=None), tools=[], input_guardrails=[], output_guardrails=[], output_type=None, hooks=None), Agent(name='English agent', instructions='You only speak English', handoff_description=None, handoffs=[], model=None, model_settings=ModelSettings(temperature=None, top_p=None, frequency_penalty=None, presence_penalty=None, tool_choice=None, parallel_tool_calls=False, truncation=None), tools=[], input_guardrails=[], output_guardrails=[], output_type=None, hooks=None)], model=None, model_settings=ModelSettings(temperature=None, top_p=None, frequency_penalty=None, presence_penalty=None, tool_choice=None, parallel_tool_calls=False, truncation=None), tools=[], input_guardrails=[], output_guardrails=[], output_type=None, hooks=None), target_agent=Agent(name='French agent', instructions='You only speak French.', handoff_description=None, handoffs=[], model=None, model_settings=ModelSettings(temperature=None, top_p=None, frequency_penalty=None, presence_penalty=None, tool_choice=None, parallel_tool_calls=False, truncation=None), tools=[], input_guardrails=[], output_guardrails=[], output_type=None, hooks=None), type='handoff_output_item'),\n",
       "  MessageOutputItem(agent=Agent(name='French agent', instructions='You only speak French.', handoff_description=None, handoffs=[], model=None, model_settings=ModelSettings(temperature=None, top_p=None, frequency_penalty=None, presence_penalty=None, tool_choice=None, parallel_tool_calls=False, truncation=None), tools=[], input_guardrails=[], output_guardrails=[], output_type=None, hooks=None), raw_item=ResponseOutputMessage(id='msg_67d2f726154c8190878fa2eaba8162bd073145303e57667f', content=[ResponseOutputText(annotations=[], text='Salut ! Je vais bien, merci. Et toi, comment ça va ?', type='output_text')], role='assistant', status='completed', type='message'), type='message_output_item')],\n",
       " 'raw_responses': [ModelResponse(output=[ResponseFunctionToolCall(id='fc_67d2f720f9cc819090fae7740a2ae1d8073145303e57667f', arguments='{}', call_id='call_dLE8YfSoki3rXAdc8EFR7WmQ', name='transfer_to_french_agent', type='function_call', status='completed')], usage=Usage(requests=1, input_tokens=327, output_tokens=14, total_tokens=341), referenceable_id='resp_67d2f7205144819090c40aff3fa95ef6073145303e57667f'),\n",
       "  ModelResponse(output=[ResponseOutputMessage(id='msg_67d2f726154c8190878fa2eaba8162bd073145303e57667f', content=[ResponseOutputText(annotations=[], text='Salut ! Je vais bien, merci. Et toi, comment ça va ?', type='output_text')], role='assistant', status='completed', type='message')], usage=Usage(requests=1, input_tokens=73, output_tokens=16, total_tokens=89), referenceable_id='resp_67d2f72142e48190a34eeff27ff386b0073145303e57667f')],\n",
       " 'final_output': 'Salut ! Je vais bien, merci. Et toi, comment ça va ?',\n",
       " 'input_guardrail_results': [],\n",
       " 'output_guardrail_results': [],\n",
       " '_last_agent': Agent(name='French agent', instructions='You only speak French.', handoff_description=None, handoffs=[], model=None, model_settings=ModelSettings(temperature=None, top_p=None, frequency_penalty=None, presence_penalty=None, tool_choice=None, parallel_tool_calls=False, truncation=None), tools=[], input_guardrails=[], output_guardrails=[], output_type=None, hooks=None)}"
      ]
     },
     "execution_count": 21,
     "metadata": {},
     "output_type": "execute_result"
    }
   ],
   "source": [
    "result.__dict__"
   ]
  },
  {
   "cell_type": "code",
   "execution_count": 22,
   "id": "d02e84e3-363a-4693-b016-1ff44114adbf",
   "metadata": {},
   "outputs": [
    {
     "name": "stdout",
     "output_type": "stream",
     "text": [
      "input: Salut !, Comment-tu vas ?\n",
      "\n",
      "new_items: [HandoffCallItem(agent=Agent(name='Triage agent', instructions='Handoff to the appropriate agent based on the language of the request.', handoff_description=None, handoffs=[Agent(name='French agent', instructions='You only speak French.', handoff_description=None, handoffs=[], model=None, model_settings=ModelSettings(temperature=None, top_p=None, frequency_penalty=None, presence_penalty=None, tool_choice=None, parallel_tool_calls=False, truncation=None), tools=[], input_guardrails=[], output_guardrails=[], output_type=None, hooks=None), Agent(name='Spanish agent', instructions='You only speak Spanish.', handoff_description=None, handoffs=[], model=None, model_settings=ModelSettings(temperature=None, top_p=None, frequency_penalty=None, presence_penalty=None, tool_choice=None, parallel_tool_calls=False, truncation=None), tools=[], input_guardrails=[], output_guardrails=[], output_type=None, hooks=None), Agent(name='English agent', instructions='You only speak English', handoff_description=None, handoffs=[], model=None, model_settings=ModelSettings(temperature=None, top_p=None, frequency_penalty=None, presence_penalty=None, tool_choice=None, parallel_tool_calls=False, truncation=None), tools=[], input_guardrails=[], output_guardrails=[], output_type=None, hooks=None)], model=None, model_settings=ModelSettings(temperature=None, top_p=None, frequency_penalty=None, presence_penalty=None, tool_choice=None, parallel_tool_calls=False, truncation=None), tools=[], input_guardrails=[], output_guardrails=[], output_type=None, hooks=None), raw_item=ResponseFunctionToolCall(id='fc_67d2f720f9cc819090fae7740a2ae1d8073145303e57667f', arguments='{}', call_id='call_dLE8YfSoki3rXAdc8EFR7WmQ', name='transfer_to_french_agent', type='function_call', status='completed'), type='handoff_call_item'), HandoffOutputItem(agent=Agent(name='Triage agent', instructions='Handoff to the appropriate agent based on the language of the request.', handoff_description=None, handoffs=[Agent(name='French agent', instructions='You only speak French.', handoff_description=None, handoffs=[], model=None, model_settings=ModelSettings(temperature=None, top_p=None, frequency_penalty=None, presence_penalty=None, tool_choice=None, parallel_tool_calls=False, truncation=None), tools=[], input_guardrails=[], output_guardrails=[], output_type=None, hooks=None), Agent(name='Spanish agent', instructions='You only speak Spanish.', handoff_description=None, handoffs=[], model=None, model_settings=ModelSettings(temperature=None, top_p=None, frequency_penalty=None, presence_penalty=None, tool_choice=None, parallel_tool_calls=False, truncation=None), tools=[], input_guardrails=[], output_guardrails=[], output_type=None, hooks=None), Agent(name='English agent', instructions='You only speak English', handoff_description=None, handoffs=[], model=None, model_settings=ModelSettings(temperature=None, top_p=None, frequency_penalty=None, presence_penalty=None, tool_choice=None, parallel_tool_calls=False, truncation=None), tools=[], input_guardrails=[], output_guardrails=[], output_type=None, hooks=None)], model=None, model_settings=ModelSettings(temperature=None, top_p=None, frequency_penalty=None, presence_penalty=None, tool_choice=None, parallel_tool_calls=False, truncation=None), tools=[], input_guardrails=[], output_guardrails=[], output_type=None, hooks=None), raw_item={'call_id': 'call_dLE8YfSoki3rXAdc8EFR7WmQ', 'output': \"{'assistant': 'French agent'}\", 'type': 'function_call_output'}, source_agent=Agent(name='Triage agent', instructions='Handoff to the appropriate agent based on the language of the request.', handoff_description=None, handoffs=[Agent(name='French agent', instructions='You only speak French.', handoff_description=None, handoffs=[], model=None, model_settings=ModelSettings(temperature=None, top_p=None, frequency_penalty=None, presence_penalty=None, tool_choice=None, parallel_tool_calls=False, truncation=None), tools=[], input_guardrails=[], output_guardrails=[], output_type=None, hooks=None), Agent(name='Spanish agent', instructions='You only speak Spanish.', handoff_description=None, handoffs=[], model=None, model_settings=ModelSettings(temperature=None, top_p=None, frequency_penalty=None, presence_penalty=None, tool_choice=None, parallel_tool_calls=False, truncation=None), tools=[], input_guardrails=[], output_guardrails=[], output_type=None, hooks=None), Agent(name='English agent', instructions='You only speak English', handoff_description=None, handoffs=[], model=None, model_settings=ModelSettings(temperature=None, top_p=None, frequency_penalty=None, presence_penalty=None, tool_choice=None, parallel_tool_calls=False, truncation=None), tools=[], input_guardrails=[], output_guardrails=[], output_type=None, hooks=None)], model=None, model_settings=ModelSettings(temperature=None, top_p=None, frequency_penalty=None, presence_penalty=None, tool_choice=None, parallel_tool_calls=False, truncation=None), tools=[], input_guardrails=[], output_guardrails=[], output_type=None, hooks=None), target_agent=Agent(name='French agent', instructions='You only speak French.', handoff_description=None, handoffs=[], model=None, model_settings=ModelSettings(temperature=None, top_p=None, frequency_penalty=None, presence_penalty=None, tool_choice=None, parallel_tool_calls=False, truncation=None), tools=[], input_guardrails=[], output_guardrails=[], output_type=None, hooks=None), type='handoff_output_item'), MessageOutputItem(agent=Agent(name='French agent', instructions='You only speak French.', handoff_description=None, handoffs=[], model=None, model_settings=ModelSettings(temperature=None, top_p=None, frequency_penalty=None, presence_penalty=None, tool_choice=None, parallel_tool_calls=False, truncation=None), tools=[], input_guardrails=[], output_guardrails=[], output_type=None, hooks=None), raw_item=ResponseOutputMessage(id='msg_67d2f726154c8190878fa2eaba8162bd073145303e57667f', content=[ResponseOutputText(annotations=[], text='Salut ! Je vais bien, merci. Et toi, comment ça va ?', type='output_text')], role='assistant', status='completed', type='message'), type='message_output_item')]\n",
      "\n",
      "raw_responses: [ModelResponse(output=[ResponseFunctionToolCall(id='fc_67d2f720f9cc819090fae7740a2ae1d8073145303e57667f', arguments='{}', call_id='call_dLE8YfSoki3rXAdc8EFR7WmQ', name='transfer_to_french_agent', type='function_call', status='completed')], usage=Usage(requests=1, input_tokens=327, output_tokens=14, total_tokens=341), referenceable_id='resp_67d2f7205144819090c40aff3fa95ef6073145303e57667f'), ModelResponse(output=[ResponseOutputMessage(id='msg_67d2f726154c8190878fa2eaba8162bd073145303e57667f', content=[ResponseOutputText(annotations=[], text='Salut ! Je vais bien, merci. Et toi, comment ça va ?', type='output_text')], role='assistant', status='completed', type='message')], usage=Usage(requests=1, input_tokens=73, output_tokens=16, total_tokens=89), referenceable_id='resp_67d2f72142e48190a34eeff27ff386b0073145303e57667f')]\n",
      "\n",
      "final_output: Salut ! Je vais bien, merci. Et toi, comment ça va ?\n",
      "\n",
      "input_guardrail_results: []\n",
      "\n",
      "output_guardrail_results: []\n",
      "\n",
      "_last_agent: Agent(name='French agent', instructions='You only speak French.', handoff_description=None, handoffs=[], model=None, model_settings=ModelSettings(temperature=None, top_p=None, frequency_penalty=None, presence_penalty=None, tool_choice=None, parallel_tool_calls=False, truncation=None), tools=[], input_guardrails=[], output_guardrails=[], output_type=None, hooks=None)\n",
      "\n"
     ]
    }
   ],
   "source": [
    "agent_result_attributes = result.__dict__\n",
    "\n",
    "\n",
    "# Itérer et afficher chaque attribut et sa valeur\n",
    "for attribute, value in agent_result_attributes.items():\n",
    "    print(f\"{attribute}: {value}\")\n",
    "    print()"
   ]
  },
  {
   "cell_type": "code",
   "execution_count": null,
   "id": "47751716-c248-4a07-b0d3-ed0f3474f064",
   "metadata": {},
   "outputs": [],
   "source": []
  },
  {
   "cell_type": "code",
   "execution_count": null,
   "id": "713bf93b-2351-45cb-8e26-12dbfddf6e8b",
   "metadata": {},
   "outputs": [],
   "source": []
  },
  {
   "cell_type": "code",
   "execution_count": null,
   "id": "467f3008-1939-4561-ac3d-dfb51d173047",
   "metadata": {},
   "outputs": [],
   "source": []
  },
  {
   "cell_type": "code",
   "execution_count": 5,
   "id": "ab6741bc-4105-4b72-b96a-519f0bfa2fa2",
   "metadata": {},
   "outputs": [
    {
     "name": "stdout",
     "output_type": "stream",
     "text": [
      "Code loops endlessly,  \n",
      "Functions call on themselves,  \n",
      "Infinity's dance.\n"
     ]
    }
   ],
   "source": [
    "from agents import Agent, Runner, set_default_openai_key\n",
    "\n",
    "#set_default_openai_key(\"your-api-key-here\")\n",
    "set_default_openai_key(OPENAI_API_KEY)\n",
    "\n",
    "my_agent = Agent(name=\"Assistant\", instructions=\"You are a helpful assistant\")\n",
    "\n",
    "\n",
    "# result = await Runner.run(triage_agent, input=\"Salut !, Comment-tu vas ?\")\n",
    "# my_agent_result = Runner.run_sync(my_agent, \"Write a haiku about recursion in programming.\")\n",
    "\n",
    "my_agent_result = await Runner.run(my_agent, \"Write a haiku about recursion in programming.\")\n",
    "print(my_agent_result.final_output)"
   ]
  },
  {
   "cell_type": "code",
   "execution_count": null,
   "id": "e233f4f1-ac6d-48a4-9657-5388f8c7ded0",
   "metadata": {},
   "outputs": [],
   "source": [
    "my_agent_result"
   ]
  }
 ],
 "metadata": {
  "kernelspec": {
   "display_name": "Python 3 (ipykernel)",
   "language": "python",
   "name": "python3"
  },
  "language_info": {
   "codemirror_mode": {
    "name": "ipython",
    "version": 3
   },
   "file_extension": ".py",
   "mimetype": "text/x-python",
   "name": "python",
   "nbconvert_exporter": "python",
   "pygments_lexer": "ipython3",
   "version": "3.12.1"
  }
 },
 "nbformat": 4,
 "nbformat_minor": 5
}
