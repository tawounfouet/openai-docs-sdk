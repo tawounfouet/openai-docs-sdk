{
 "cells": [
  {
   "cell_type": "markdown",
   "id": "52b8313e-d917-492a-b795-ce2b0b84170c",
   "metadata": {},
   "source": [
    "## Install an official SDK\n",
    "- https://platform.openai.com/docs/libraries?language=python"
   ]
  },
  {
   "cell_type": "code",
   "execution_count": 2,
   "id": "49e7a7b8-9c8b-44a7-a904-3a6565faa1fa",
   "metadata": {},
   "outputs": [],
   "source": [
    "#!pip install openai"
   ]
  },
  {
   "cell_type": "code",
   "execution_count": 2,
   "id": "00b1eedd-d8e8-4013-a9f1-841253aee387",
   "metadata": {},
   "outputs": [],
   "source": []
  },
  {
   "cell_type": "code",
   "execution_count": 3,
   "id": "e727ce9d-3d69-400f-b135-422d6dbb1bd1",
   "metadata": {},
   "outputs": [
    {
     "name": "stdout",
     "output_type": "stream",
     "text": [
      "In a land where the stars danced like fireflies, a gentle unicorn named Luna soared across the twilight sky, weaving dreams of peace and magic for sleepy children everywhere.\n"
     ]
    }
   ],
   "source": [
    "import os\n",
    "from openai import OpenAI\n",
    "\n",
    "client = OpenAI(\n",
    "    #api_key=os.environ.get(\"OPENAI_API_KEY\"),\n",
    "    api_key=OPENAI_API_KEY\n",
    ")\n",
    "\n",
    "completion = client.chat.completions.create(\n",
    "    model=\"gpt-4o\",\n",
    "    messages=[\n",
    "        {\n",
    "            \"role\": \"user\",\n",
    "            \"content\": \"Write a one-sentence bedtime story about a unicorn.\"\n",
    "        }\n",
    "    ]\n",
    ")\n",
    "\n",
    "print(completion.choices[0].message.content)"
   ]
  },
  {
   "cell_type": "markdown",
   "id": "60545298-1c94-4f1c-81e3-830a34af67cc",
   "metadata": {},
   "source": [
    "## Usage\n",
    "\n",
    "The previous standard (supported indefinitely) for generating text is the Chat Completions API. You can use that API to generate text from the model with the code below."
   ]
  },
  {
   "cell_type": "code",
   "execution_count": 4,
   "id": "604e6a94-360c-4148-bb58-58617c30b511",
   "metadata": {},
   "outputs": [],
   "source": [
    "import os\n",
    "from openai import OpenAI\n",
    "\n",
    "client = OpenAI(\n",
    "    api_key=OPENAI_API_KEY\n",
    ")"
   ]
  },
  {
   "cell_type": "code",
   "execution_count": 34,
   "id": "37e8af3d-4c64-4bcd-8d16-fc0433737b6e",
   "metadata": {},
   "outputs": [
    {
     "name": "stdout",
     "output_type": "stream",
     "text": [
      "Arrr, once upon a high-tech sea, a clever Python serpent sailed alongside a mighty AI galleon, discovering digital treasures together in uncharted algorithms, as the stars above twinkled like binary code in the vast, deep night.\n"
     ]
    }
   ],
   "source": [
    "completion = client.chat.completions.create(\n",
    "    model=\"gpt-4o\",\n",
    "    messages=[\n",
    "        {\"role\": \"developer\", \"content\": \"Talk like a pirate.\"},\n",
    "        {\n",
    "            \"role\": \"user\",\n",
    "            \"content\": \"Write a one-sentence bedtime story about python and AI\",\n",
    "        },\n",
    "    ],\n",
    ")\n",
    "\n",
    "print(completion.choices[0].message.content)"
   ]
  },
  {
   "cell_type": "code",
   "execution_count": 35,
   "id": "c985ba45-6b72-47fd-9aa9-4a6b48cd1e8e",
   "metadata": {},
   "outputs": [
    {
     "data": {
      "text/plain": [
       "ChatCompletion(id='chatcmpl-BAcy15uxatSD84EdATgG6PJPhM9Rs', choices=[Choice(finish_reason='stop', index=0, logprobs=None, message=ChatCompletionMessage(content='Arrr, once upon a high-tech sea, a clever Python serpent sailed alongside a mighty AI galleon, discovering digital treasures together in uncharted algorithms, as the stars above twinkled like binary code in the vast, deep night.', refusal=None, role='assistant', annotations=[], audio=None, function_call=None, tool_calls=None))], created=1741872769, model='gpt-4o-2024-08-06', object='chat.completion', service_tier='default', system_fingerprint='fp_0d4eb8a50b', usage=CompletionUsage(completion_tokens=50, prompt_tokens=27, total_tokens=77, completion_tokens_details=CompletionTokensDetails(accepted_prediction_tokens=0, audio_tokens=0, reasoning_tokens=0, rejected_prediction_tokens=0), prompt_tokens_details=PromptTokensDetails(audio_tokens=0, cached_tokens=0)))"
      ]
     },
     "execution_count": 35,
     "metadata": {},
     "output_type": "execute_result"
    }
   ],
   "source": [
    "completion"
   ]
  },
  {
   "cell_type": "code",
   "execution_count": 36,
   "id": "a9b60974-6e4a-4c96-b74c-a1f0cae345dd",
   "metadata": {},
   "outputs": [
    {
     "data": {
      "text/plain": [
       "openai.types.chat.chat_completion.ChatCompletion"
      ]
     },
     "execution_count": 36,
     "metadata": {},
     "output_type": "execute_result"
    }
   ],
   "source": [
    "type(completion)"
   ]
  },
  {
   "cell_type": "code",
   "execution_count": 38,
   "id": "3d0c4831-ac50-43a3-9b61-05c800bbb887",
   "metadata": {},
   "outputs": [
    {
     "name": "stdout",
     "output_type": "stream",
     "text": [
      "id: chatcmpl-BAcy15uxatSD84EdATgG6PJPhM9Rs\n",
      "choices: [Choice(finish_reason='stop', index=0, logprobs=None, message=ChatCompletionMessage(content='Arrr, once upon a high-tech sea, a clever Python serpent sailed alongside a mighty AI galleon, discovering digital treasures together in uncharted algorithms, as the stars above twinkled like binary code in the vast, deep night.', refusal=None, role='assistant', annotations=[], audio=None, function_call=None, tool_calls=None))]\n",
      "created: 1741872769\n",
      "model: gpt-4o-2024-08-06\n",
      "object: chat.completion\n",
      "service_tier: default\n",
      "system_fingerprint: fp_0d4eb8a50b\n",
      "usage: CompletionUsage(completion_tokens=50, prompt_tokens=27, total_tokens=77, completion_tokens_details=CompletionTokensDetails(accepted_prediction_tokens=0, audio_tokens=0, reasoning_tokens=0, rejected_prediction_tokens=0), prompt_tokens_details=PromptTokensDetails(audio_tokens=0, cached_tokens=0))\n",
      "_request_id: req_1a182e269ec47b56b4b039744121c5e6\n"
     ]
    }
   ],
   "source": [
    "# Accéder aux attributs de l'objet 'completion' sous forme de dictionnaire\n",
    "completion_attributes = completion.__dict__\n",
    "\n",
    "# Itérer et afficher chaque attribut et sa valeur\n",
    "for attribute, value in completion_attributes.items():\n",
    "    print(f\"{attribute}: {value}\")"
   ]
  },
  {
   "cell_type": "code",
   "execution_count": 39,
   "id": "a67ab81f-ec10-4a71-b03f-5dc964dd0886",
   "metadata": {},
   "outputs": [
    {
     "name": "stdout",
     "output_type": "stream",
     "text": [
      "id: chatcmpl-BAcy15uxatSD84EdATgG6PJPhM9Rs\n",
      "\n",
      "choices: [Choice(finish_reason='stop', index=0, logprobs=None, message=ChatCompletionMessage(content='Arrr, once upon a high-tech sea, a clever Python serpent sailed alongside a mighty AI galleon, discovering digital treasures together in uncharted algorithms, as the stars above twinkled like binary code in the vast, deep night.', refusal=None, role='assistant', annotations=[], audio=None, function_call=None, tool_calls=None))]\n",
      "\n",
      "created: 1741872769\n",
      "\n",
      "model: gpt-4o-2024-08-06\n",
      "\n",
      "object: chat.completion\n",
      "\n",
      "service_tier: default\n",
      "\n",
      "system_fingerprint: fp_0d4eb8a50b\n",
      "\n",
      "usage: CompletionUsage(completion_tokens=50, prompt_tokens=27, total_tokens=77, completion_tokens_details=CompletionTokensDetails(accepted_prediction_tokens=0, audio_tokens=0, reasoning_tokens=0, rejected_prediction_tokens=0), prompt_tokens_details=PromptTokensDetails(audio_tokens=0, cached_tokens=0))\n",
      "\n",
      "_request_id: req_1a182e269ec47b56b4b039744121c5e6\n",
      "\n"
     ]
    }
   ],
   "source": [
    "# Récupérer tous les attributs de l'objet 'completion' sous forme de dictionnaire\n",
    "completion_attributes = vars(completion)\n",
    "\n",
    "# Itérer et afficher chaque attribut et sa valeur\n",
    "for attribute, value in completion_attributes.items():\n",
    "    print(f\"{attribute}: {value}\")\n",
    "    print()"
   ]
  },
  {
   "cell_type": "code",
   "execution_count": 40,
   "id": "d3c9e975-61c5-4f90-85dc-5c9b5f7cc5fb",
   "metadata": {},
   "outputs": [
    {
     "data": {
      "text/plain": [
       "'chatcmpl-BAcy15uxatSD84EdATgG6PJPhM9Rs'"
      ]
     },
     "execution_count": 40,
     "metadata": {},
     "output_type": "execute_result"
    }
   ],
   "source": [
    "completion.id"
   ]
  },
  {
   "cell_type": "code",
   "execution_count": 41,
   "id": "11b6a4fe-fa8f-43e0-b6d5-e4dc7e45b29d",
   "metadata": {},
   "outputs": [
    {
     "data": {
      "text/plain": [
       "1741872769"
      ]
     },
     "execution_count": 41,
     "metadata": {},
     "output_type": "execute_result"
    }
   ],
   "source": [
    "completion.created"
   ]
  },
  {
   "cell_type": "code",
   "execution_count": 42,
   "id": "677b9a6e-9485-4044-95d2-53d9729d9778",
   "metadata": {},
   "outputs": [
    {
     "data": {
      "text/plain": [
       "'gpt-4o-2024-08-06'"
      ]
     },
     "execution_count": 42,
     "metadata": {},
     "output_type": "execute_result"
    }
   ],
   "source": [
    "completion.model"
   ]
  },
  {
   "cell_type": "code",
   "execution_count": 54,
   "id": "dc867032-5eda-4578-b7c2-6f4c925fc27b",
   "metadata": {},
   "outputs": [
    {
     "data": {
      "text/plain": [
       "CompletionUsage(completion_tokens=50, prompt_tokens=27, total_tokens=77, completion_tokens_details=CompletionTokensDetails(accepted_prediction_tokens=0, audio_tokens=0, reasoning_tokens=0, rejected_prediction_tokens=0), prompt_tokens_details=PromptTokensDetails(audio_tokens=0, cached_tokens=0))"
      ]
     },
     "execution_count": 54,
     "metadata": {},
     "output_type": "execute_result"
    }
   ],
   "source": [
    "completion.usage"
   ]
  },
  {
   "cell_type": "code",
   "execution_count": 43,
   "id": "889a629b-3628-4c52-bd68-f078bdc20c88",
   "metadata": {},
   "outputs": [
    {
     "data": {
      "text/plain": [
       "[Choice(finish_reason='stop', index=0, logprobs=None, message=ChatCompletionMessage(content='Arrr, once upon a high-tech sea, a clever Python serpent sailed alongside a mighty AI galleon, discovering digital treasures together in uncharted algorithms, as the stars above twinkled like binary code in the vast, deep night.', refusal=None, role='assistant', annotations=[], audio=None, function_call=None, tool_calls=None))]"
      ]
     },
     "execution_count": 43,
     "metadata": {},
     "output_type": "execute_result"
    }
   ],
   "source": [
    "completion.choices"
   ]
  },
  {
   "cell_type": "code",
   "execution_count": 44,
   "id": "82c0eb81-7514-445b-8811-744298868f0e",
   "metadata": {},
   "outputs": [
    {
     "data": {
      "text/plain": [
       "list"
      ]
     },
     "execution_count": 44,
     "metadata": {},
     "output_type": "execute_result"
    }
   ],
   "source": [
    "type(completion.choices)"
   ]
  },
  {
   "cell_type": "code",
   "execution_count": 45,
   "id": "b08b5f8d-c2f5-4499-a1e3-0c5d3fee3012",
   "metadata": {},
   "outputs": [
    {
     "data": {
      "text/plain": [
       "1"
      ]
     },
     "execution_count": 45,
     "metadata": {},
     "output_type": "execute_result"
    }
   ],
   "source": [
    "len(completion.choices)"
   ]
  },
  {
   "cell_type": "code",
   "execution_count": 47,
   "id": "7f21ef5e-d34f-495a-bdab-e874a6508a8d",
   "metadata": {},
   "outputs": [
    {
     "data": {
      "text/plain": [
       "Choice(finish_reason='stop', index=0, logprobs=None, message=ChatCompletionMessage(content='Arrr, once upon a high-tech sea, a clever Python serpent sailed alongside a mighty AI galleon, discovering digital treasures together in uncharted algorithms, as the stars above twinkled like binary code in the vast, deep night.', refusal=None, role='assistant', annotations=[], audio=None, function_call=None, tool_calls=None))"
      ]
     },
     "execution_count": 47,
     "metadata": {},
     "output_type": "execute_result"
    }
   ],
   "source": [
    "completion.choices[0]"
   ]
  },
  {
   "cell_type": "code",
   "execution_count": 48,
   "id": "691ba01f-ab66-49be-8c37-c7cb00609fad",
   "metadata": {},
   "outputs": [
    {
     "name": "stdout",
     "output_type": "stream",
     "text": [
      " - ('finish_reason', 'stop')\n",
      " - ('index', 0)\n",
      " - ('logprobs', None)\n",
      " - ('message', ChatCompletionMessage(content='Arrr, once upon a high-tech sea, a clever Python serpent sailed alongside a mighty AI galleon, discovering digital treasures together in uncharted algorithms, as the stars above twinkled like binary code in the vast, deep night.', refusal=None, role='assistant', annotations=[], audio=None, function_call=None, tool_calls=None))\n"
     ]
    }
   ],
   "source": [
    "for i in completion.choices[0]:\n",
    "    print(f\" - {i}\")"
   ]
  },
  {
   "cell_type": "code",
   "execution_count": 49,
   "id": "9947481c-d95b-48d8-86c2-806c78010782",
   "metadata": {},
   "outputs": [
    {
     "name": "stdout",
     "output_type": "stream",
     "text": [
      "content: Arrr, once upon a high-tech sea, a clever Python serpent sailed alongside a mighty AI galleon, discovering digital treasures together in uncharted algorithms, as the stars above twinkled like binary code in the vast, deep night.\n",
      "refusal: None\n",
      "role: assistant\n",
      "annotations: []\n",
      "audio: None\n",
      "function_call: None\n",
      "tool_calls: None\n",
      "--------------------------------------------------\n"
     ]
    }
   ],
   "source": [
    "for choice in completion.choices:\n",
    "    message = choice.message  # Accéder à l'objet ChatCompletionMessage\n",
    "    print(f\"content: {message.content}\")\n",
    "    print(f\"refusal: {message.refusal}\")\n",
    "    print(f\"role: {message.role}\")\n",
    "    print(f\"annotations: {message.annotations}\")\n",
    "    print(f\"audio: {message.audio}\")\n",
    "    print(f\"function_call: {message.function_call}\")\n",
    "    print(f\"tool_calls: {message.tool_calls}\")\n",
    "    print(\"-\" * 50)  # Séparateur pour faciliter la lecture des résultats\n"
   ]
  },
  {
   "cell_type": "code",
   "execution_count": 50,
   "id": "6ead2369-b255-40d9-8bc1-5e0325473aec",
   "metadata": {},
   "outputs": [
    {
     "data": {
      "text/plain": [
       "openai.types.chat.chat_completion_message.ChatCompletionMessage"
      ]
     },
     "execution_count": 50,
     "metadata": {},
     "output_type": "execute_result"
    }
   ],
   "source": [
    "type(completion.choices[0].message)"
   ]
  },
  {
   "cell_type": "code",
   "execution_count": 51,
   "id": "adf7c490-6799-440c-9a11-f4780bde3b8a",
   "metadata": {},
   "outputs": [
    {
     "data": {
      "text/plain": [
       "{'content': 'Arrr, once upon a high-tech sea, a clever Python serpent sailed alongside a mighty AI galleon, discovering digital treasures together in uncharted algorithms, as the stars above twinkled like binary code in the vast, deep night.',\n",
       " 'refusal': None,\n",
       " 'role': 'assistant',\n",
       " 'annotations': [],\n",
       " 'audio': None,\n",
       " 'function_call': None,\n",
       " 'tool_calls': None}"
      ]
     },
     "execution_count": 51,
     "metadata": {},
     "output_type": "execute_result"
    }
   ],
   "source": [
    "message = completion.choices[0].message\n",
    "message.__dict__"
   ]
  },
  {
   "cell_type": "code",
   "execution_count": 53,
   "id": "cf957c53-6d09-4e91-9be7-af542bf2c378",
   "metadata": {},
   "outputs": [
    {
     "name": "stdout",
     "output_type": "stream",
     "text": [
      "content: Arrr, once upon a high-tech sea, a clever Python serpent sailed alongside a mighty AI galleon, discovering digital treasures together in uncharted algorithms, as the stars above twinkled like binary code in the vast, deep night.\n",
      "refusal: None\n",
      "role: assistant\n",
      "annotations: []\n",
      "audio: None\n",
      "function_call: None\n",
      "tool_calls: None\n"
     ]
    }
   ],
   "source": [
    "message_attributes = message.__dict__\n",
    "\n",
    "# Itérer et afficher chaque attribut et sa valeur\n",
    "for attribute, value in message_attributes.items():\n",
    "    print(f\"{attribute}: {value}\")"
   ]
  },
  {
   "cell_type": "code",
   "execution_count": null,
   "id": "23956136-0856-48cf-befc-02894643d46b",
   "metadata": {},
   "outputs": [],
   "source": []
  },
  {
   "cell_type": "code",
   "execution_count": 55,
   "id": "5ee480fc-e9a1-44d1-9a1c-f49f494e0485",
   "metadata": {},
   "outputs": [
    {
     "data": {
      "text/plain": [
       "openai.types.completion_usage.CompletionUsage"
      ]
     },
     "execution_count": 55,
     "metadata": {},
     "output_type": "execute_result"
    }
   ],
   "source": [
    "type(completion.usage)"
   ]
  },
  {
   "cell_type": "code",
   "execution_count": 58,
   "id": "84131d10-2590-4aef-b18e-19386dd7a89a",
   "metadata": {},
   "outputs": [
    {
     "data": {
      "text/plain": [
       "{'completion_tokens': 50,\n",
       " 'prompt_tokens': 27,\n",
       " 'total_tokens': 77,\n",
       " 'completion_tokens_details': CompletionTokensDetails(accepted_prediction_tokens=0, audio_tokens=0, reasoning_tokens=0, rejected_prediction_tokens=0),\n",
       " 'prompt_tokens_details': PromptTokensDetails(audio_tokens=0, cached_tokens=0)}"
      ]
     },
     "execution_count": 58,
     "metadata": {},
     "output_type": "execute_result"
    }
   ],
   "source": [
    "usage = completion.usage\n",
    "usage_attributes = usage.__dict__\n",
    "usage_attributes"
   ]
  },
  {
   "cell_type": "code",
   "execution_count": 59,
   "id": "ec26f735-4a59-40be-bcc9-a53288fdec10",
   "metadata": {},
   "outputs": [
    {
     "data": {
      "text/plain": [
       "50"
      ]
     },
     "execution_count": 59,
     "metadata": {},
     "output_type": "execute_result"
    }
   ],
   "source": [
    "completion.usage.completion_tokens"
   ]
  },
  {
   "cell_type": "code",
   "execution_count": 60,
   "id": "c7a13349-1082-482c-8f99-e125c83ea9d5",
   "metadata": {},
   "outputs": [
    {
     "data": {
      "text/plain": [
       "27"
      ]
     },
     "execution_count": 60,
     "metadata": {},
     "output_type": "execute_result"
    }
   ],
   "source": [
    "completion.usage.prompt_tokens"
   ]
  },
  {
   "cell_type": "code",
   "execution_count": 61,
   "id": "b544aa9f-9db9-49d9-beed-7482e283c6e4",
   "metadata": {},
   "outputs": [
    {
     "data": {
      "text/plain": [
       "77"
      ]
     },
     "execution_count": 61,
     "metadata": {},
     "output_type": "execute_result"
    }
   ],
   "source": [
    "completion.usage.total_tokens"
   ]
  },
  {
   "cell_type": "code",
   "execution_count": null,
   "id": "e517cef5-5ee5-4826-810f-75bee3e7cf61",
   "metadata": {},
   "outputs": [],
   "source": []
  }
 ],
 "metadata": {
  "kernelspec": {
   "display_name": "Python 3 (ipykernel)",
   "language": "python",
   "name": "python3"
  },
  "language_info": {
   "codemirror_mode": {
    "name": "ipython",
    "version": 3
   },
   "file_extension": ".py",
   "mimetype": "text/x-python",
   "name": "python",
   "nbconvert_exporter": "python",
   "pygments_lexer": "ipython3",
   "version": "3.12.1"
  }
 },
 "nbformat": 4,
 "nbformat_minor": 5
}
